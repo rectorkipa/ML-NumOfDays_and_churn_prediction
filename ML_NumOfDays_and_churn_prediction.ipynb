{
 "cells": [
  {
   "cell_type": "markdown",
   "metadata": {
    "id": "j3gZn1HYa0OS"
   },
   "source": [
    "Ссылка на проект в colab:\n",
    "\n",
    "https://colab.research.google.com/drive/1EE2OX1idmQ5fYczmXp5kenaGSHsePOX4?usp=sharing"
   ]
  },
  {
   "cell_type": "markdown",
   "metadata": {
    "id": "VQUtAgqCFzfv"
   },
   "source": [
    "## Активности  по  удержанию  клиентов  являются  важной  составляющей  развития  бизнеса.  В рамках данного pet-проекта построю модели, способные предсказать отток действующих посетителей сети ресторанов.  Предсказательный сервис основан на аналитике больших данных и машинном обучении - решение задач регрессии и классификации.\n",
    "В  качестве  входных  данных  для  обучения  есть  история  покупок,  а  также\n",
    "характеристики ресторанов сети.\n",
    "На  выходе  сервиса  персонально  каждому  клиенту присвоена предсказанная метка класса и предсказан номер дня следующей покупки."
   ]
  },
  {
   "cell_type": "markdown",
   "metadata": {
    "id": "BJ5lIx3_WOOE"
   },
   "source": [
    "### Работа с трейновым датасетом"
   ]
  },
  {
   "cell_type": "markdown",
   "metadata": {
    "id": "9vIzBlH5B_vq"
   },
   "source": [
    "Ссылка на train:\n",
    "\n",
    "https://drive.google.com/file/d/1ripvgNsneFhqG93hQzAZzwrl-_o6Kz2S/view?usp=sharing\n"
   ]
  },
  {
   "cell_type": "code",
   "execution_count": 1,
   "metadata": {
    "colab": {
     "base_uri": "https://localhost:8080/"
    },
    "id": "DM676e2fB14O",
    "outputId": "4d134e63-5d7b-4e68-df1e-d0779e3ab36d"
   },
   "outputs": [],
   "source": [
    "# # для запуска в colab\n",
    "\n",
    "# !gdown 1ripvgNsneFhqG93hQzAZzwrl-_o6Kz2S"
   ]
  },
  {
   "cell_type": "code",
   "execution_count": 2,
   "metadata": {
    "colab": {
     "base_uri": "https://localhost:8080/"
    },
    "id": "N9Hik24wB17O",
    "outputId": "bf35b574-37ff-4dff-a637-8be1bb43da62"
   },
   "outputs": [],
   "source": [
    "# # для запуска в colab\n",
    "\n",
    "# !unzip -o '/content/train_dataset_hackaton2023_train.zip'"
   ]
  },
  {
   "cell_type": "code",
   "execution_count": 3,
   "metadata": {
    "id": "inPfNPdYBiCI"
   },
   "outputs": [],
   "source": [
    "import warnings\n",
    "warnings.filterwarnings('ignore')"
   ]
  },
  {
   "cell_type": "code",
   "execution_count": 4,
   "metadata": {
    "id": "1J7lgp_LBiCL"
   },
   "outputs": [],
   "source": [
    "#!pip install pyarrow"
   ]
  },
  {
   "cell_type": "code",
   "execution_count": 5,
   "metadata": {
    "id": "TaVJ5rWXBiCL"
   },
   "outputs": [],
   "source": [
    "#!pip install fastparquet"
   ]
  },
  {
   "cell_type": "code",
   "execution_count": 6,
   "metadata": {
    "colab": {
     "base_uri": "https://localhost:8080/"
    },
    "id": "Q-7ndShsFrml",
    "outputId": "5cd6aa15-5d86-465a-e8cf-c3e08c454080"
   },
   "outputs": [
    {
     "name": "stdout",
     "output_type": "stream",
     "text": [
      "Looking in indexes: https://pypi.org/simple, https://pypi.ngc.nvidia.com\n",
      "Requirement already satisfied: catboost in c:\\anaconda3\\lib\\site-packages (1.2)\n",
      "Requirement already satisfied: graphviz in c:\\anaconda3\\lib\\site-packages (from catboost) (0.20.1)\n",
      "Requirement already satisfied: matplotlib in c:\\users\\nick1\\appdata\\roaming\\python\\python310\\site-packages (from catboost) (3.8.1)\n",
      "Requirement already satisfied: numpy>=1.16.0 in c:\\anaconda3\\lib\\site-packages (from catboost) (1.23.5)\n",
      "Requirement already satisfied: pandas>=0.24 in c:\\anaconda3\\lib\\site-packages (from catboost) (1.5.3)\n",
      "Requirement already satisfied: scipy in c:\\anaconda3\\lib\\site-packages (from catboost) (1.10.0)\n",
      "Requirement already satisfied: plotly in c:\\anaconda3\\lib\\site-packages (from catboost) (5.9.0)\n",
      "Requirement already satisfied: six in c:\\anaconda3\\lib\\site-packages (from catboost) (1.16.0)\n",
      "Requirement already satisfied: python-dateutil>=2.8.1 in c:\\anaconda3\\lib\\site-packages (from pandas>=0.24->catboost) (2.8.2)\n",
      "Requirement already satisfied: pytz>=2020.1 in c:\\anaconda3\\lib\\site-packages (from pandas>=0.24->catboost) (2023.3.post1)\n",
      "Requirement already satisfied: contourpy>=1.0.1 in c:\\anaconda3\\lib\\site-packages (from matplotlib->catboost) (1.0.5)\n",
      "Requirement already satisfied: cycler>=0.10 in c:\\users\\nick1\\appdata\\roaming\\python\\python310\\site-packages (from matplotlib->catboost) (0.10.0)\n",
      "Requirement already satisfied: fonttools>=4.22.0 in c:\\anaconda3\\lib\\site-packages (from matplotlib->catboost) (4.25.0)\n",
      "Requirement already satisfied: kiwisolver>=1.3.1 in c:\\anaconda3\\lib\\site-packages (from matplotlib->catboost) (1.4.4)\n",
      "Requirement already satisfied: packaging>=20.0 in c:\\anaconda3\\lib\\site-packages (from matplotlib->catboost) (22.0)\n",
      "Requirement already satisfied: pillow>=8 in c:\\anaconda3\\lib\\site-packages (from matplotlib->catboost) (9.4.0)\n",
      "Requirement already satisfied: pyparsing>=2.3.1 in c:\\anaconda3\\lib\\site-packages (from matplotlib->catboost) (2.4.7)\n",
      "Requirement already satisfied: tenacity>=6.2.0 in c:\\anaconda3\\lib\\site-packages (from plotly->catboost) (8.2.3)\n"
     ]
    },
    {
     "name": "stderr",
     "output_type": "stream",
     "text": [
      "DEPRECATION: pytorch-lightning 1.6.5 has a non-standard dependency specifier torch>=1.8.*. pip 24.0 will enforce this behaviour change. A possible replacement is to upgrade to a newer version of pytorch-lightning or contact the author to suggest that they release a version with a conforming dependency specifiers. Discussion can be found at https://github.com/pypa/pip/issues/12063\n"
     ]
    }
   ],
   "source": [
    "!pip install catboost"
   ]
  },
  {
   "cell_type": "code",
   "execution_count": 7,
   "metadata": {
    "id": "F4KkNL4KrXUe"
   },
   "outputs": [],
   "source": [
    "import pandas as pd\n",
    "import numpy as np\n",
    "\n",
    "import matplotlib.pyplot as plt\n",
    "import seaborn as sns\n",
    "%matplotlib inline\n",
    "\n",
    "from sklearn.utils import resample\n",
    "from sklearn.model_selection import train_test_split\n",
    "from sklearn.metrics import mean_squared_error\n",
    "from sklearn.metrics import f1_score, roc_auc_score, classification_report\n",
    "from catboost.utils import get_roc_curve\n",
    "from catboost import Pool\n",
    "from catboost import cv"
   ]
  },
  {
   "cell_type": "code",
   "execution_count": 8,
   "metadata": {
    "id": "WH5xkUa9ra0A"
   },
   "outputs": [],
   "source": [
    "df = pd.read_parquet('train_dataset_hackaton2023_train.parquet')"
   ]
  },
  {
   "cell_type": "code",
   "execution_count": 9,
   "metadata": {},
   "outputs": [],
   "source": [
    "# для экономии ОЗУ\n",
    "\n",
    "df = df.sample(frac=0.5)"
   ]
  },
  {
   "cell_type": "markdown",
   "metadata": {
    "id": "RvTu6hGcHf3B"
   },
   "source": [
    "### EDA"
   ]
  },
  {
   "cell_type": "code",
   "execution_count": 10,
   "metadata": {
    "colab": {
     "base_uri": "https://localhost:8080/",
     "height": 293
    },
    "id": "37PwOuAuBiCM",
    "outputId": "2482dab9-de48-4688-b515-214f9038e4aa",
    "scrolled": true
   },
   "outputs": [
    {
     "data": {
      "text/html": [
       "<div>\n",
       "<style scoped>\n",
       "    .dataframe tbody tr th:only-of-type {\n",
       "        vertical-align: middle;\n",
       "    }\n",
       "\n",
       "    .dataframe tbody tr th {\n",
       "        vertical-align: top;\n",
       "    }\n",
       "\n",
       "    .dataframe thead th {\n",
       "        text-align: right;\n",
       "    }\n",
       "</style>\n",
       "<table border=\"1\" class=\"dataframe\">\n",
       "  <thead>\n",
       "    <tr style=\"text-align: right;\">\n",
       "      <th></th>\n",
       "      <th>customer_id</th>\n",
       "      <th>date_diff_post</th>\n",
       "      <th>buy_post</th>\n",
       "      <th>group_name</th>\n",
       "      <th>revenue</th>\n",
       "      <th>startdatetime</th>\n",
       "      <th>dish_name</th>\n",
       "      <th>ownareaall_sqm</th>\n",
       "      <th>format_name</th>\n",
       "    </tr>\n",
       "  </thead>\n",
       "  <tbody>\n",
       "    <tr>\n",
       "      <th>11821926</th>\n",
       "      <td>20973465</td>\n",
       "      <td>11.0</td>\n",
       "      <td>1</td>\n",
       "      <td>train</td>\n",
       "      <td>139.98</td>\n",
       "      <td>2022-11-12 16:38:42</td>\n",
       "      <td>Кинг Фри мал</td>\n",
       "      <td>90.6</td>\n",
       "      <td>Фудкорт без туалета</td>\n",
       "    </tr>\n",
       "    <tr>\n",
       "      <th>8207740</th>\n",
       "      <td>12584726</td>\n",
       "      <td>4.0</td>\n",
       "      <td>1</td>\n",
       "      <td>train</td>\n",
       "      <td>180.00</td>\n",
       "      <td>2023-05-09 14:53:23</td>\n",
       "      <td>Мистери Гранд Чиз Фреш</td>\n",
       "      <td>297.0</td>\n",
       "      <td>Отдельно стоящий без внешней зоны</td>\n",
       "    </tr>\n",
       "    <tr>\n",
       "      <th>874342</th>\n",
       "      <td>909181</td>\n",
       "      <td>8.0</td>\n",
       "      <td>1</td>\n",
       "      <td>train</td>\n",
       "      <td>89.99</td>\n",
       "      <td>2022-09-29 14:54:05</td>\n",
       "      <td>Кинг Фри станд</td>\n",
       "      <td>79.7</td>\n",
       "      <td>Фудкорт с туалетом</td>\n",
       "    </tr>\n",
       "    <tr>\n",
       "      <th>7352524</th>\n",
       "      <td>11884944</td>\n",
       "      <td>21.0</td>\n",
       "      <td>1</td>\n",
       "      <td>train</td>\n",
       "      <td>116.49</td>\n",
       "      <td>2023-03-30 19:26:52</td>\n",
       "      <td>Наггетсы (6 шт.)</td>\n",
       "      <td>100.0</td>\n",
       "      <td>Фудкорт без туалета</td>\n",
       "    </tr>\n",
       "    <tr>\n",
       "      <th>23067084</th>\n",
       "      <td>38986937</td>\n",
       "      <td>NaN</td>\n",
       "      <td>0</td>\n",
       "      <td>train</td>\n",
       "      <td>669.99</td>\n",
       "      <td>2023-05-16 15:00:52</td>\n",
       "      <td>Кинг Букет «Креветки»</td>\n",
       "      <td>191.4</td>\n",
       "      <td>Отдельно стоящий без туалета</td>\n",
       "    </tr>\n",
       "  </tbody>\n",
       "</table>\n",
       "</div>"
      ],
      "text/plain": [
       "          customer_id  date_diff_post  buy_post group_name  revenue  \\\n",
       "11821926     20973465            11.0         1      train   139.98   \n",
       "8207740      12584726             4.0         1      train   180.00   \n",
       "874342         909181             8.0         1      train    89.99   \n",
       "7352524      11884944            21.0         1      train   116.49   \n",
       "23067084     38986937             NaN         0      train   669.99   \n",
       "\n",
       "               startdatetime               dish_name  ownareaall_sqm  \\\n",
       "11821926 2022-11-12 16:38:42            Кинг Фри мал            90.6   \n",
       "8207740  2023-05-09 14:53:23  Мистери Гранд Чиз Фреш           297.0   \n",
       "874342   2022-09-29 14:54:05          Кинг Фри станд            79.7   \n",
       "7352524  2023-03-30 19:26:52        Наггетсы (6 шт.)           100.0   \n",
       "23067084 2023-05-16 15:00:52   Кинг Букет «Креветки»           191.4   \n",
       "\n",
       "                                format_name  \n",
       "11821926                Фудкорт без туалета  \n",
       "8207740   Отдельно стоящий без внешней зоны  \n",
       "874342                   Фудкорт с туалетом  \n",
       "7352524                 Фудкорт без туалета  \n",
       "23067084       Отдельно стоящий без туалета  "
      ]
     },
     "execution_count": 10,
     "metadata": {},
     "output_type": "execute_result"
    }
   ],
   "source": [
    "df.head()"
   ]
  },
  {
   "cell_type": "code",
   "execution_count": 11,
   "metadata": {
    "id": "2JZOIVlsBiCN"
   },
   "outputs": [],
   "source": [
    "df.drop('group_name', axis=1, inplace=True)"
   ]
  },
  {
   "cell_type": "code",
   "execution_count": 12,
   "metadata": {
    "colab": {
     "base_uri": "https://localhost:8080/"
    },
    "id": "7Yhjl3SYBiCN",
    "outputId": "6dcb6dd4-c183-4034-aa37-c39282bea1e9"
   },
   "outputs": [
    {
     "data": {
      "text/plain": [
       "6064692"
      ]
     },
     "execution_count": 12,
     "metadata": {},
     "output_type": "execute_result"
    }
   ],
   "source": [
    "len(df)"
   ]
  },
  {
   "cell_type": "code",
   "execution_count": 13,
   "metadata": {
    "colab": {
     "base_uri": "https://localhost:8080/"
    },
    "id": "_9apHHXWGLIX",
    "outputId": "d4a5ae19-afc6-4e2d-ce8d-cccff3d6df25"
   },
   "outputs": [
    {
     "name": "stdout",
     "output_type": "stream",
     "text": [
      "<class 'pandas.core.frame.DataFrame'>\n",
      "Int64Index: 6064692 entries, 11821926 to 6001508\n",
      "Data columns (total 8 columns):\n",
      " #   Column          Dtype         \n",
      "---  ------          -----         \n",
      " 0   customer_id     int64         \n",
      " 1   date_diff_post  float64       \n",
      " 2   buy_post        int64         \n",
      " 3   revenue         float64       \n",
      " 4   startdatetime   datetime64[ns]\n",
      " 5   dish_name       object        \n",
      " 6   ownareaall_sqm  float64       \n",
      " 7   format_name     object        \n",
      "dtypes: datetime64[ns](1), float64(3), int64(2), object(2)\n",
      "memory usage: 416.4+ MB\n"
     ]
    }
   ],
   "source": [
    "df.info()"
   ]
  },
  {
   "cell_type": "code",
   "execution_count": 14,
   "metadata": {
    "colab": {
     "base_uri": "https://localhost:8080/"
    },
    "id": "Fs56bsxE5TtX",
    "outputId": "d37f54ad-914e-46bf-d8dc-e0763aba6eaa"
   },
   "outputs": [
    {
     "name": "stdout",
     "output_type": "stream",
     "text": [
      "dish_name\n",
      "\n",
      "Кинг Фри мал             339756\n",
      "Наггетсы (3 шт.)         320181\n",
      "Кинг Фри станд           229978\n",
      "Соус Сырный              216703\n",
      "Кинг Фри бол             183216\n",
      "                          ...  \n",
      "1RUB.Ангус 4 Сыра             1\n",
      "Up Воппер джуниор             1\n",
      "Пепси Макс XL 1л              1\n",
      "Пепси Манго джун 0,3л         1\n",
      "Севен Ап  мал 0,4             1\n",
      "Name: dish_name, Length: 1012, dtype: int64\n",
      "****************************************************************************************************\n",
      "\n",
      "format_name\n",
      "\n",
      "Фудкорт без туалета                              2323782\n",
      "Отдельно стоящий с внешней зоной                 1155357\n",
      "Отдельно стоящий без внешней зоны                 907646\n",
      "Отдельно стоящий                                  832236\n",
      "Фудкорт с туалетом                                583646\n",
      "Отдельно стоящий без внешней зоны без туалета     134317\n",
      "Отдельно стоящий без туалета                       82141\n",
      "Отдельно стоящий с внешн.зоной без туалета         45554\n",
      "Не заполнено                                          13\n",
      "Name: format_name, dtype: int64\n",
      "****************************************************************************************************\n",
      "\n"
     ]
    }
   ],
   "source": [
    "# обзор признаков типа object\n",
    "\n",
    "for cat_colname in df.select_dtypes(include='object').columns:\n",
    "    print(str(cat_colname) + '\\n\\n' + str(df[cat_colname].value_counts()) + '\\n' + '*' * 100 + '\\n')"
   ]
  },
  {
   "cell_type": "code",
   "execution_count": 15,
   "metadata": {
    "colab": {
     "base_uri": "https://localhost:8080/",
     "height": 300
    },
    "id": "kg17grObBiCN",
    "outputId": "d040bc20-5262-4700-acc2-dc27aa968c13"
   },
   "outputs": [
    {
     "data": {
      "text/html": [
       "<div>\n",
       "<style scoped>\n",
       "    .dataframe tbody tr th:only-of-type {\n",
       "        vertical-align: middle;\n",
       "    }\n",
       "\n",
       "    .dataframe tbody tr th {\n",
       "        vertical-align: top;\n",
       "    }\n",
       "\n",
       "    .dataframe thead th {\n",
       "        text-align: right;\n",
       "    }\n",
       "</style>\n",
       "<table border=\"1\" class=\"dataframe\">\n",
       "  <thead>\n",
       "    <tr style=\"text-align: right;\">\n",
       "      <th></th>\n",
       "      <th>customer_id</th>\n",
       "      <th>date_diff_post</th>\n",
       "      <th>buy_post</th>\n",
       "      <th>revenue</th>\n",
       "      <th>ownareaall_sqm</th>\n",
       "    </tr>\n",
       "  </thead>\n",
       "  <tbody>\n",
       "    <tr>\n",
       "      <th>count</th>\n",
       "      <td>6.064692e+06</td>\n",
       "      <td>4.830459e+06</td>\n",
       "      <td>6.064692e+06</td>\n",
       "      <td>6.064692e+06</td>\n",
       "      <td>6.064692e+06</td>\n",
       "    </tr>\n",
       "    <tr>\n",
       "      <th>mean</th>\n",
       "      <td>1.980715e+07</td>\n",
       "      <td>2.047370e+01</td>\n",
       "      <td>7.964888e-01</td>\n",
       "      <td>1.067792e+02</td>\n",
       "      <td>2.155214e+02</td>\n",
       "    </tr>\n",
       "    <tr>\n",
       "      <th>std</th>\n",
       "      <td>1.139137e+07</td>\n",
       "      <td>1.527044e+01</td>\n",
       "      <td>4.026095e-01</td>\n",
       "      <td>1.073527e+02</td>\n",
       "      <td>1.225760e+02</td>\n",
       "    </tr>\n",
       "    <tr>\n",
       "      <th>min</th>\n",
       "      <td>2.989100e+04</td>\n",
       "      <td>0.000000e+00</td>\n",
       "      <td>0.000000e+00</td>\n",
       "      <td>1.000000e-02</td>\n",
       "      <td>0.000000e+00</td>\n",
       "    </tr>\n",
       "    <tr>\n",
       "      <th>25%</th>\n",
       "      <td>1.010509e+07</td>\n",
       "      <td>8.000000e+00</td>\n",
       "      <td>1.000000e+00</td>\n",
       "      <td>4.499000e+01</td>\n",
       "      <td>1.049000e+02</td>\n",
       "    </tr>\n",
       "    <tr>\n",
       "      <th>50%</th>\n",
       "      <td>2.127398e+07</td>\n",
       "      <td>1.700000e+01</td>\n",
       "      <td>1.000000e+00</td>\n",
       "      <td>7.998000e+01</td>\n",
       "      <td>2.104000e+02</td>\n",
       "    </tr>\n",
       "    <tr>\n",
       "      <th>75%</th>\n",
       "      <td>2.803722e+07</td>\n",
       "      <td>3.000000e+01</td>\n",
       "      <td>1.000000e+00</td>\n",
       "      <td>1.314200e+02</td>\n",
       "      <td>3.000000e+02</td>\n",
       "    </tr>\n",
       "    <tr>\n",
       "      <th>max</th>\n",
       "      <td>4.666180e+07</td>\n",
       "      <td>6.000000e+01</td>\n",
       "      <td>1.000000e+00</td>\n",
       "      <td>1.409970e+04</td>\n",
       "      <td>9.787000e+02</td>\n",
       "    </tr>\n",
       "  </tbody>\n",
       "</table>\n",
       "</div>"
      ],
      "text/plain": [
       "        customer_id  date_diff_post      buy_post       revenue  \\\n",
       "count  6.064692e+06    4.830459e+06  6.064692e+06  6.064692e+06   \n",
       "mean   1.980715e+07    2.047370e+01  7.964888e-01  1.067792e+02   \n",
       "std    1.139137e+07    1.527044e+01  4.026095e-01  1.073527e+02   \n",
       "min    2.989100e+04    0.000000e+00  0.000000e+00  1.000000e-02   \n",
       "25%    1.010509e+07    8.000000e+00  1.000000e+00  4.499000e+01   \n",
       "50%    2.127398e+07    1.700000e+01  1.000000e+00  7.998000e+01   \n",
       "75%    2.803722e+07    3.000000e+01  1.000000e+00  1.314200e+02   \n",
       "max    4.666180e+07    6.000000e+01  1.000000e+00  1.409970e+04   \n",
       "\n",
       "       ownareaall_sqm  \n",
       "count    6.064692e+06  \n",
       "mean     2.155214e+02  \n",
       "std      1.225760e+02  \n",
       "min      0.000000e+00  \n",
       "25%      1.049000e+02  \n",
       "50%      2.104000e+02  \n",
       "75%      3.000000e+02  \n",
       "max      9.787000e+02  "
      ]
     },
     "execution_count": 15,
     "metadata": {},
     "output_type": "execute_result"
    }
   ],
   "source": [
    "df.describe()"
   ]
  },
  {
   "cell_type": "code",
   "execution_count": 16,
   "metadata": {
    "id": "pSKHt4DB5xlJ"
   },
   "outputs": [],
   "source": [
    "# выделяю количественные признаки\n",
    "\n",
    "df_num_features = df.select_dtypes(include=['int64', 'float64'])"
   ]
  },
  {
   "cell_type": "code",
   "execution_count": 17,
   "metadata": {
    "colab": {
     "base_uri": "https://localhost:8080/",
     "height": 1000
    },
    "id": "D-0H29GD6O6Q",
    "outputId": "362a16b9-88da-4910-f422-ea5d02b17439"
   },
   "outputs": [
    {
     "data": {
      "image/png": "[encoded data removed]",
      "text/plain": [
       "<Figure size 1600x1600 with 6 Axes>"
      ]
     },
     "metadata": {},
     "output_type": "display_data"
    }
   ],
   "source": [
    "# изучаю гистограммы их распределения\n",
    "\n",
    "df_num_features.hist(figsize=(16,16), bins=20, grid=False);"
   ]
  },
  {
   "cell_type": "code",
   "execution_count": 18,
   "metadata": {
    "colab": {
     "base_uri": "https://localhost:8080/",
     "height": 847
    },
    "id": "xGtB14dI6iir",
    "outputId": "fe23ce0f-ec62-4860-ff63-e1f4cdc5b2e3"
   },
   "outputs": [
    {
     "data": {
      "image/png": "[encoded data removed]",
      "text/plain": [
       "<Figure size 1500x1000 with 2 Axes>"
      ]
     },
     "metadata": {},
     "output_type": "display_data"
    }
   ],
   "source": [
    "# оцениванию мультиколлинеарность признаков с помощью матрицы корреляций\n",
    "\n",
    "plt.figure(figsize = (15,10))\n",
    "sns.set(font_scale=1.4)\n",
    "\n",
    "corr_matrix = df.corr()\n",
    "corr_matrix = np.round(corr_matrix, 2)\n",
    "corr_matrix[np.abs(corr_matrix) < 0.3] = 0\n",
    "\n",
    "sns.heatmap(corr_matrix, annot=True, linewidths=0.5, cmap='coolwarm')\n",
    "\n",
    "plt.title('Correlation matrix')\n",
    "plt.show()"
   ]
  },
  {
   "cell_type": "code",
   "execution_count": 19,
   "metadata": {
    "id": "o0nPwpoUBiCO"
   },
   "outputs": [],
   "source": [
    "def check_missings(df: pd.DataFrame) -> pd.DataFrame:\n",
    "    \"\"\"\n",
    "    Функция для вычисления среднего и общего числа пропусков.\n",
    "\n",
    "    Parameters\n",
    "    ----------\n",
    "    df: pandas.core.DataFrame\n",
    "        Набор данных для вычисления статистики.\n",
    "\n",
    "    Returns\n",
    "    -------\n",
    "    result: pandas.core.DataFrame\n",
    "        Датафрейм со статистикой распределения пропусков.\n",
    "\n",
    "    \"\"\"\n",
    "    na = df.isnull().sum()\n",
    "    result = pd.DataFrame({\n",
    "        'Total (всего пропусков)': na,\n",
    "        'Percent (процент пропусков)': round(100*na/df.shape[0], 3),\n",
    "        'Types (тип данных)': df.dtypes\n",
    "    })\n",
    "    result = result[result['Total (всего пропусков)'] != 0]\n",
    "    print(f'Total NA-values (всего пропусков) = {na.sum()}')\n",
    "    return result.T"
   ]
  },
  {
   "cell_type": "code",
   "execution_count": 20,
   "metadata": {
    "colab": {
     "base_uri": "https://localhost:8080/",
     "height": 161
    },
    "id": "KwfBvbNABiCO",
    "outputId": "81d12691-fd27-40c5-dc9f-a4de5957886b",
    "scrolled": false
   },
   "outputs": [
    {
     "name": "stdout",
     "output_type": "stream",
     "text": [
      "Total NA-values (всего пропусков) = 1234233\n"
     ]
    },
    {
     "data": {
      "text/html": [
       "<div>\n",
       "<style scoped>\n",
       "    .dataframe tbody tr th:only-of-type {\n",
       "        vertical-align: middle;\n",
       "    }\n",
       "\n",
       "    .dataframe tbody tr th {\n",
       "        vertical-align: top;\n",
       "    }\n",
       "\n",
       "    .dataframe thead th {\n",
       "        text-align: right;\n",
       "    }\n",
       "</style>\n",
       "<table border=\"1\" class=\"dataframe\">\n",
       "  <thead>\n",
       "    <tr style=\"text-align: right;\">\n",
       "      <th></th>\n",
       "      <th>date_diff_post</th>\n",
       "    </tr>\n",
       "  </thead>\n",
       "  <tbody>\n",
       "    <tr>\n",
       "      <th>Total (всего пропусков)</th>\n",
       "      <td>1234233</td>\n",
       "    </tr>\n",
       "    <tr>\n",
       "      <th>Percent (процент пропусков)</th>\n",
       "      <td>20.351</td>\n",
       "    </tr>\n",
       "    <tr>\n",
       "      <th>Types (тип данных)</th>\n",
       "      <td>float64</td>\n",
       "    </tr>\n",
       "  </tbody>\n",
       "</table>\n",
       "</div>"
      ],
      "text/plain": [
       "                            date_diff_post\n",
       "Total (всего пропусков)            1234233\n",
       "Percent (процент пропусков)         20.351\n",
       "Types (тип данных)                 float64"
      ]
     },
     "execution_count": 20,
     "metadata": {},
     "output_type": "execute_result"
    }
   ],
   "source": [
    "check_missings(df)"
   ]
  },
  {
   "cell_type": "code",
   "execution_count": 21,
   "metadata": {
    "colab": {
     "base_uri": "https://localhost:8080/"
    },
    "id": "FHkxlPJzBiCO",
    "outputId": "07718d56-4c96-4188-b439-f13550096a87"
   },
   "outputs": [
    {
     "data": {
      "text/plain": [
       "498493"
      ]
     },
     "execution_count": 21,
     "metadata": {},
     "output_type": "execute_result"
    }
   ],
   "source": [
    "# количество уникальных покупателей:\n",
    "\n",
    "df['customer_id'].nunique()"
   ]
  },
  {
   "cell_type": "code",
   "execution_count": 22,
   "metadata": {
    "colab": {
     "base_uri": "https://localhost:8080/",
     "height": 562
    },
    "id": "DIN1KYQeBiCO",
    "outputId": "c4d08580-9f06-477e-9d0b-05ef6fc45c9a",
    "scrolled": true
   },
   "outputs": [
    {
     "name": "stdout",
     "output_type": "stream",
     "text": [
      "1    0.796489\n",
      "0    0.203511\n",
      "Name: buy_post, dtype: float64\n"
     ]
    },
    {
     "data": {
      "image/png": "[encoded data removed]",
      "text/plain": [
       "<Figure size 800x500 with 1 Axes>"
      ]
     },
     "metadata": {},
     "output_type": "display_data"
    }
   ],
   "source": [
    "# смотрю распределение целевой переменной buy_post:\n",
    "\n",
    "print(df['buy_post'].value_counts(normalize=True))\n",
    "\n",
    "plt.figure(figsize=(8, 5))\n",
    "sns.countplot(x='buy_post', data=df)\n",
    "plt.title('Target variable distribution')\n",
    "plt.show()"
   ]
  },
  {
   "cell_type": "markdown",
   "metadata": {
    "id": "vMPuchMCBiCP"
   },
   "source": [
    "0 если отток, 1 если НЕ отток"
   ]
  },
  {
   "cell_type": "markdown",
   "metadata": {
    "id": "pijdVE4PBiCP"
   },
   "source": [
    "На лицо дисбаланс классов - применяю апсэмплинг"
   ]
  },
  {
   "cell_type": "code",
   "execution_count": 23,
   "metadata": {
    "id": "nLKNSd1QBiCQ"
   },
   "outputs": [],
   "source": [
    "def dataset_upsampling(df, feature_name):\n",
    "    \"\"\"\n",
    "    Функция для апсемплинга - наращивания \"меньшего\" класса.\n",
    "\n",
    "    Parameters\n",
    "    ----------\n",
    "    df: pandas.core.DataFrame\n",
    "        Набор данных с целевой переменной.\n",
    "    feature_name: str\n",
    "        Имя целевой переменной.\n",
    "\n",
    "    Returns\n",
    "    -------\n",
    "    result: pandas.core.DataFrame\n",
    "        Датафрейм со сбалансированным классом.\n",
    "\n",
    "    \"\"\"\n",
    "    df_1 = df[df[feature_name] == 1]\n",
    "    df_0  = df[df[feature_name] == 0]\n",
    "    df_0_upsample = resample(df_0, replace=True, n_samples=len(df_1), random_state=42)\n",
    "    df_upsampled = pd.concat([df_1, df_0_upsample])\n",
    "    print(df_upsampled[feature_name].value_counts(normalize=True))\n",
    "    plt.figure(figsize=(8, 5))\n",
    "    sns.countplot(x=feature_name, data=df_upsampled)\n",
    "    plt.title('Target variable distribution after upsampling')\n",
    "    plt.show()\n",
    "    return df_upsampled"
   ]
  },
  {
   "cell_type": "code",
   "execution_count": 24,
   "metadata": {
    "colab": {
     "base_uri": "https://localhost:8080/"
    },
    "id": "ukcTgf3dBiCQ",
    "outputId": "30ee05c1-f780-4009-bdd5-dfc78a3a23ee"
   },
   "outputs": [
    {
     "name": "stdout",
     "output_type": "stream",
     "text": [
      "Количество объектов (строк) в датафрейме ДО балансировки:  6064692\n"
     ]
    }
   ],
   "source": [
    "print('Количество объектов (строк) в датафрейме ДО балансировки: ', len(df))"
   ]
  },
  {
   "cell_type": "code",
   "execution_count": 25,
   "metadata": {
    "colab": {
     "base_uri": "https://localhost:8080/",
     "height": 579
    },
    "id": "bFiJR1zzBiCQ",
    "outputId": "2d7a290a-59bd-415d-ba36-f1fb552d5e56"
   },
   "outputs": [
    {
     "name": "stdout",
     "output_type": "stream",
     "text": [
      "1    0.5\n",
      "0    0.5\n",
      "Name: buy_post, dtype: float64\n"
     ]
    },
    {
     "data": {
      "image/png": "[encoded data removed]",
      "text/plain": [
       "<Figure size 800x500 with 1 Axes>"
      ]
     },
     "metadata": {},
     "output_type": "display_data"
    },
    {
     "name": "stdout",
     "output_type": "stream",
     "text": [
      "Количество объектов (строк) в датафрейме ПОСЛЕ балансировки:  9660918\n"
     ]
    }
   ],
   "source": [
    "df_upsampled = dataset_upsampling(df, 'buy_post')\n",
    "\n",
    "print('Количество объектов (строк) в датафрейме ПОСЛЕ балансировки: ', len(df_upsampled))"
   ]
  },
  {
   "cell_type": "code",
   "execution_count": 26,
   "metadata": {
    "colab": {
     "base_uri": "https://localhost:8080/",
     "height": 293
    },
    "id": "rluyPhMdBiCQ",
    "outputId": "ed2625eb-2786-429a-a205-138e2263112b"
   },
   "outputs": [
    {
     "data": {
      "text/html": [
       "<div>\n",
       "<style scoped>\n",
       "    .dataframe tbody tr th:only-of-type {\n",
       "        vertical-align: middle;\n",
       "    }\n",
       "\n",
       "    .dataframe tbody tr th {\n",
       "        vertical-align: top;\n",
       "    }\n",
       "\n",
       "    .dataframe thead th {\n",
       "        text-align: right;\n",
       "    }\n",
       "</style>\n",
       "<table border=\"1\" class=\"dataframe\">\n",
       "  <thead>\n",
       "    <tr style=\"text-align: right;\">\n",
       "      <th></th>\n",
       "      <th>customer_id</th>\n",
       "      <th>date_diff_post</th>\n",
       "      <th>buy_post</th>\n",
       "      <th>revenue</th>\n",
       "      <th>startdatetime</th>\n",
       "      <th>dish_name</th>\n",
       "      <th>ownareaall_sqm</th>\n",
       "      <th>format_name</th>\n",
       "    </tr>\n",
       "  </thead>\n",
       "  <tbody>\n",
       "    <tr>\n",
       "      <th>11821926</th>\n",
       "      <td>20973465</td>\n",
       "      <td>11.0</td>\n",
       "      <td>1</td>\n",
       "      <td>139.98</td>\n",
       "      <td>2022-11-12 16:38:42</td>\n",
       "      <td>Кинг Фри мал</td>\n",
       "      <td>90.6</td>\n",
       "      <td>Фудкорт без туалета</td>\n",
       "    </tr>\n",
       "    <tr>\n",
       "      <th>8207740</th>\n",
       "      <td>12584726</td>\n",
       "      <td>4.0</td>\n",
       "      <td>1</td>\n",
       "      <td>180.00</td>\n",
       "      <td>2023-05-09 14:53:23</td>\n",
       "      <td>Мистери Гранд Чиз Фреш</td>\n",
       "      <td>297.0</td>\n",
       "      <td>Отдельно стоящий без внешней зоны</td>\n",
       "    </tr>\n",
       "    <tr>\n",
       "      <th>874342</th>\n",
       "      <td>909181</td>\n",
       "      <td>8.0</td>\n",
       "      <td>1</td>\n",
       "      <td>89.99</td>\n",
       "      <td>2022-09-29 14:54:05</td>\n",
       "      <td>Кинг Фри станд</td>\n",
       "      <td>79.7</td>\n",
       "      <td>Фудкорт с туалетом</td>\n",
       "    </tr>\n",
       "    <tr>\n",
       "      <th>7352524</th>\n",
       "      <td>11884944</td>\n",
       "      <td>21.0</td>\n",
       "      <td>1</td>\n",
       "      <td>116.49</td>\n",
       "      <td>2023-03-30 19:26:52</td>\n",
       "      <td>Наггетсы (6 шт.)</td>\n",
       "      <td>100.0</td>\n",
       "      <td>Фудкорт без туалета</td>\n",
       "    </tr>\n",
       "    <tr>\n",
       "      <th>19390289</th>\n",
       "      <td>29287560</td>\n",
       "      <td>19.0</td>\n",
       "      <td>1</td>\n",
       "      <td>104.99</td>\n",
       "      <td>2022-11-23 14:13:11</td>\n",
       "      <td>Up Кинг Наггетс Стандартный</td>\n",
       "      <td>62.1</td>\n",
       "      <td>Фудкорт без туалета</td>\n",
       "    </tr>\n",
       "  </tbody>\n",
       "</table>\n",
       "</div>"
      ],
      "text/plain": [
       "          customer_id  date_diff_post  buy_post  revenue       startdatetime  \\\n",
       "11821926     20973465            11.0         1   139.98 2022-11-12 16:38:42   \n",
       "8207740      12584726             4.0         1   180.00 2023-05-09 14:53:23   \n",
       "874342         909181             8.0         1    89.99 2022-09-29 14:54:05   \n",
       "7352524      11884944            21.0         1   116.49 2023-03-30 19:26:52   \n",
       "19390289     29287560            19.0         1   104.99 2022-11-23 14:13:11   \n",
       "\n",
       "                            dish_name  ownareaall_sqm  \\\n",
       "11821926                 Кинг Фри мал            90.6   \n",
       "8207740        Мистери Гранд Чиз Фреш           297.0   \n",
       "874342                 Кинг Фри станд            79.7   \n",
       "7352524              Наггетсы (6 шт.)           100.0   \n",
       "19390289  Up Кинг Наггетс Стандартный            62.1   \n",
       "\n",
       "                                format_name  \n",
       "11821926                Фудкорт без туалета  \n",
       "8207740   Отдельно стоящий без внешней зоны  \n",
       "874342                   Фудкорт с туалетом  \n",
       "7352524                 Фудкорт без туалета  \n",
       "19390289                Фудкорт без туалета  "
      ]
     },
     "execution_count": 26,
     "metadata": {},
     "output_type": "execute_result"
    }
   ],
   "source": [
    "df_upsampled.head()"
   ]
  },
  {
   "cell_type": "code",
   "execution_count": 27,
   "metadata": {
    "colab": {
     "base_uri": "https://localhost:8080/"
    },
    "id": "n6y8bjlTBiCR",
    "outputId": "f9b2dc72-b289-42f1-e2e0-c83d1bd801d7"
   },
   "outputs": [
    {
     "name": "stdout",
     "output_type": "stream",
     "text": [
      "<class 'pandas.core.frame.DataFrame'>\n",
      "Int64Index: 9660918 entries, 11821926 to 17562926\n",
      "Data columns (total 8 columns):\n",
      " #   Column          Dtype         \n",
      "---  ------          -----         \n",
      " 0   customer_id     int64         \n",
      " 1   date_diff_post  float64       \n",
      " 2   buy_post        int64         \n",
      " 3   revenue         float64       \n",
      " 4   startdatetime   datetime64[ns]\n",
      " 5   dish_name       object        \n",
      " 6   ownareaall_sqm  float64       \n",
      " 7   format_name     object        \n",
      "dtypes: datetime64[ns](1), float64(3), int64(2), object(2)\n",
      "memory usage: 663.4+ MB\n"
     ]
    }
   ],
   "source": [
    "df_upsampled.info()"
   ]
  },
  {
   "cell_type": "code",
   "execution_count": 28,
   "metadata": {
    "colab": {
     "base_uri": "https://localhost:8080/",
     "height": 300
    },
    "id": "uav6LPjbBiCR",
    "outputId": "c2893eca-c01b-4f88-ebae-1a393ebd2c3c"
   },
   "outputs": [
    {
     "data": {
      "text/html": [
       "<div>\n",
       "<style scoped>\n",
       "    .dataframe tbody tr th:only-of-type {\n",
       "        vertical-align: middle;\n",
       "    }\n",
       "\n",
       "    .dataframe tbody tr th {\n",
       "        vertical-align: top;\n",
       "    }\n",
       "\n",
       "    .dataframe thead th {\n",
       "        text-align: right;\n",
       "    }\n",
       "</style>\n",
       "<table border=\"1\" class=\"dataframe\">\n",
       "  <thead>\n",
       "    <tr style=\"text-align: right;\">\n",
       "      <th></th>\n",
       "      <th>customer_id</th>\n",
       "      <th>date_diff_post</th>\n",
       "      <th>buy_post</th>\n",
       "      <th>revenue</th>\n",
       "      <th>ownareaall_sqm</th>\n",
       "    </tr>\n",
       "  </thead>\n",
       "  <tbody>\n",
       "    <tr>\n",
       "      <th>count</th>\n",
       "      <td>9.660918e+06</td>\n",
       "      <td>4.830459e+06</td>\n",
       "      <td>9660918.0</td>\n",
       "      <td>9.660918e+06</td>\n",
       "      <td>9.660918e+06</td>\n",
       "    </tr>\n",
       "    <tr>\n",
       "      <th>mean</th>\n",
       "      <td>2.044191e+07</td>\n",
       "      <td>2.047370e+01</td>\n",
       "      <td>0.5</td>\n",
       "      <td>1.092392e+02</td>\n",
       "      <td>2.148494e+02</td>\n",
       "    </tr>\n",
       "    <tr>\n",
       "      <th>std</th>\n",
       "      <td>1.151361e+07</td>\n",
       "      <td>1.527044e+01</td>\n",
       "      <td>0.5</td>\n",
       "      <td>1.098431e+02</td>\n",
       "      <td>1.227555e+02</td>\n",
       "    </tr>\n",
       "    <tr>\n",
       "      <th>min</th>\n",
       "      <td>2.989100e+04</td>\n",
       "      <td>0.000000e+00</td>\n",
       "      <td>0.0</td>\n",
       "      <td>1.000000e-02</td>\n",
       "      <td>0.000000e+00</td>\n",
       "    </tr>\n",
       "    <tr>\n",
       "      <th>25%</th>\n",
       "      <td>1.086380e+07</td>\n",
       "      <td>8.000000e+00</td>\n",
       "      <td>0.0</td>\n",
       "      <td>4.499000e+01</td>\n",
       "      <td>1.046700e+02</td>\n",
       "    </tr>\n",
       "    <tr>\n",
       "      <th>50%</th>\n",
       "      <td>2.180677e+07</td>\n",
       "      <td>1.700000e+01</td>\n",
       "      <td>0.5</td>\n",
       "      <td>7.999000e+01</td>\n",
       "      <td>2.062000e+02</td>\n",
       "    </tr>\n",
       "    <tr>\n",
       "      <th>75%</th>\n",
       "      <td>2.857451e+07</td>\n",
       "      <td>3.000000e+01</td>\n",
       "      <td>1.0</td>\n",
       "      <td>1.399800e+02</td>\n",
       "      <td>3.000000e+02</td>\n",
       "    </tr>\n",
       "    <tr>\n",
       "      <th>max</th>\n",
       "      <td>4.666180e+07</td>\n",
       "      <td>6.000000e+01</td>\n",
       "      <td>1.0</td>\n",
       "      <td>1.409970e+04</td>\n",
       "      <td>9.787000e+02</td>\n",
       "    </tr>\n",
       "  </tbody>\n",
       "</table>\n",
       "</div>"
      ],
      "text/plain": [
       "        customer_id  date_diff_post   buy_post       revenue  ownareaall_sqm\n",
       "count  9.660918e+06    4.830459e+06  9660918.0  9.660918e+06    9.660918e+06\n",
       "mean   2.044191e+07    2.047370e+01        0.5  1.092392e+02    2.148494e+02\n",
       "std    1.151361e+07    1.527044e+01        0.5  1.098431e+02    1.227555e+02\n",
       "min    2.989100e+04    0.000000e+00        0.0  1.000000e-02    0.000000e+00\n",
       "25%    1.086380e+07    8.000000e+00        0.0  4.499000e+01    1.046700e+02\n",
       "50%    2.180677e+07    1.700000e+01        0.5  7.999000e+01    2.062000e+02\n",
       "75%    2.857451e+07    3.000000e+01        1.0  1.399800e+02    3.000000e+02\n",
       "max    4.666180e+07    6.000000e+01        1.0  1.409970e+04    9.787000e+02"
      ]
     },
     "execution_count": 28,
     "metadata": {},
     "output_type": "execute_result"
    }
   ],
   "source": [
    "df_upsampled.describe()"
   ]
  },
  {
   "cell_type": "markdown",
   "metadata": {
    "id": "XB2FetAILd2O"
   },
   "source": [
    "### Feature generation"
   ]
  },
  {
   "cell_type": "code",
   "execution_count": 29,
   "metadata": {
    "id": "VOftCcVjLhFB"
   },
   "outputs": [],
   "source": [
    "# лояльность\n",
    "\n",
    "counts = df_upsampled['customer_id'].value_counts()\n",
    "df_upsampled['loyality'] = df_upsampled['customer_id'].apply(lambda x: counts.loc[x])"
   ]
  },
  {
   "cell_type": "code",
   "execution_count": 30,
   "metadata": {
    "id": "mLLimNv_LhUr"
   },
   "outputs": [],
   "source": [
    "# производные от startdatetime\n",
    "\n",
    "df_upsampled['datetime'] = pd.to_datetime(df_upsampled['startdatetime'], format='mixed')\n",
    "df_upsampled['day_of_week'] = df_upsampled['datetime'].dt.dayofweek\n",
    "df_upsampled['hour_of_day'] = df_upsampled['datetime'].dt.hour\n",
    "df_upsampled['month'] = df_upsampled['datetime'].dt.month\n",
    "df_upsampled['quarter'] = df_upsampled['datetime'].dt.quarter"
   ]
  },
  {
   "cell_type": "code",
   "execution_count": 31,
   "metadata": {
    "colab": {
     "base_uri": "https://localhost:8080/"
    },
    "id": "dGH_m8yaLhXZ",
    "outputId": "57523ad2-4eb7-440f-d58c-04c11b8d2a84"
   },
   "outputs": [
    {
     "data": {
      "text/plain": [
       "507"
      ]
     },
     "execution_count": 31,
     "metadata": {},
     "output_type": "execute_result"
    }
   ],
   "source": [
    "# укрупняю категорию dish_name\n",
    "\n",
    "# считаю количество вхождений каждой категории\n",
    "category_counts = df_upsampled['dish_name'].value_counts()\n",
    "\n",
    "# заменяю редкие категории на Другое\n",
    "threshold = category_counts.median()  # медиана как порог отсева\n",
    "for i in range(len(category_counts)):\n",
    "    if category_counts[i] < threshold:\n",
    "        df_upsampled['dish_name'].replace(category_counts.index[i], 'Другое', inplace=True)\n",
    "len(df_upsampled['dish_name'].value_counts())"
   ]
  },
  {
   "cell_type": "code",
   "execution_count": 32,
   "metadata": {
    "colab": {
     "base_uri": "https://localhost:8080/"
    },
    "id": "j-MQEXtnLhZp",
    "outputId": "b9c91598-a0cb-4632-bde3-6d53a261247a"
   },
   "outputs": [
    {
     "data": {
      "text/plain": [
       "300.00    274049\n",
       "100.00    189155\n",
       "250.00    111399\n",
       "400.00     70412\n",
       "350.00     67401\n",
       "102.00     64028\n",
       "92.00      58075\n",
       "80.00      56708\n",
       "120.00     56239\n",
       "110.00     55745\n",
       "89.00      50484\n",
       "320.00     45467\n",
       "119.31     44155\n",
       "296.00     43449\n",
       "101.00     41057\n",
       "367.40     39689\n",
       "95.00      37538\n",
       "116.00     36847\n",
       "78.23      36474\n",
       "200.00     36320\n",
       "246.20     36104\n",
       "140.00     35777\n",
       "90.00      35632\n",
       "128.50     34991\n",
       "115.00     34750\n",
       "269.90     34609\n",
       "538.70     34207\n",
       "113.00     34095\n",
       "359.90     34041\n",
       "101.80     33969\n",
       "366.60     33682\n",
       "244.50     32870\n",
       "295.00     32805\n",
       "303.00     32743\n",
       "340.10     32308\n",
       "233.20     31900\n",
       "280.00     31772\n",
       "101.60     31362\n",
       "85.00      31113\n",
       "260.00     30692\n",
       "431.10     30197\n",
       "114.50     29628\n",
       "230.00     29442\n",
       "98.00      29324\n",
       "115.46     29223\n",
       "81.00      29213\n",
       "360.00     29205\n",
       "361.00     28858\n",
       "330.80     28777\n",
       "338.90     28590\n",
       "Name: ownareaall_sqm, dtype: int64"
      ]
     },
     "execution_count": 32,
     "metadata": {},
     "output_type": "execute_result"
    }
   ],
   "source": [
    "# обработка ownareaall_sqm\n",
    "\n",
    "df_upsampled['ownareaall_sqm'].value_counts().head(50)"
   ]
  },
  {
   "cell_type": "code",
   "execution_count": 33,
   "metadata": {
    "colab": {
     "base_uri": "https://localhost:8080/"
    },
    "id": "mULuyUL1LhdH",
    "outputId": "246f6369-d98c-4611-93ec-f2f8b508e2c6"
   },
   "outputs": [
    {
     "data": {
      "text/plain": [
       "count    9.660918e+06\n",
       "mean     2.148494e+02\n",
       "std      1.227555e+02\n",
       "min      0.000000e+00\n",
       "25%      1.046700e+02\n",
       "50%      2.062000e+02\n",
       "75%      3.000000e+02\n",
       "max      9.787000e+02\n",
       "Name: ownareaall_sqm, dtype: float64"
      ]
     },
     "execution_count": 33,
     "metadata": {},
     "output_type": "execute_result"
    }
   ],
   "source": [
    "df_upsampled['ownareaall_sqm'].describe()"
   ]
  },
  {
   "cell_type": "code",
   "execution_count": 34,
   "metadata": {
    "id": "V4q7gfwFNA-L"
   },
   "outputs": [],
   "source": [
    "# функция кодирования\n",
    "\n",
    "def fit_area(x):\n",
    "    res = 0\n",
    "    if x < 105:\n",
    "        res = 0\n",
    "    elif x < 207:\n",
    "        res = 1\n",
    "    elif x < 301:\n",
    "        res = 2\n",
    "    else:\n",
    "        res = 3\n",
    "    return res"
   ]
  },
  {
   "cell_type": "code",
   "execution_count": 35,
   "metadata": {
    "id": "Su0D8NIHNBAn"
   },
   "outputs": [],
   "source": [
    "df_upsampled['ownareaall_sqm'] = df_upsampled['ownareaall_sqm'].apply(fit_area)"
   ]
  },
  {
   "cell_type": "code",
   "execution_count": 36,
   "metadata": {
    "colab": {
     "base_uri": "https://localhost:8080/"
    },
    "id": "XEAY2dRYNBDB",
    "outputId": "92c18c7b-9dba-4d6b-bb44-b7d93fc6a89d"
   },
   "outputs": [
    {
     "data": {
      "text/plain": [
       "2    2655771\n",
       "0    2434646\n",
       "1    2409664\n",
       "3    2160837\n",
       "Name: ownareaall_sqm, dtype: int64"
      ]
     },
     "execution_count": 36,
     "metadata": {},
     "output_type": "execute_result"
    }
   ],
   "source": [
    "df_upsampled['ownareaall_sqm'].value_counts()"
   ]
  },
  {
   "cell_type": "code",
   "execution_count": 37,
   "metadata": {
    "colab": {
     "base_uri": "https://localhost:8080/",
     "height": 868
    },
    "id": "YM8DlVBM7sEa",
    "outputId": "6a9b4bb2-e1a7-45ff-cafc-ba1018174525"
   },
   "outputs": [
    {
     "data": {
      "image/png": "[encoded data removed]",
      "text/plain": [
       "<Figure size 1500x1000 with 2 Axes>"
      ]
     },
     "metadata": {},
     "output_type": "display_data"
    }
   ],
   "source": [
    "# оцениванию мультиколлинеарность признаков с помощью матрицы корреляций после генерации признаков\n",
    "\n",
    "plt.figure(figsize = (15,10))\n",
    "sns.set(font_scale=1.4)\n",
    "\n",
    "corr_matrix = df_upsampled.corr()\n",
    "corr_matrix = np.round(corr_matrix, 2)\n",
    "corr_matrix[np.abs(corr_matrix) < 0.3] = 0\n",
    "\n",
    "sns.heatmap(corr_matrix, annot=True, linewidths=0.5, cmap='coolwarm')\n",
    "\n",
    "plt.title('Correlation matrix')\n",
    "plt.show()"
   ]
  },
  {
   "cell_type": "markdown",
   "metadata": {
    "id": "0l0T6BKeLNm_"
   },
   "source": [
    "### Регрессия: прогноз количества дней до следующей покупки"
   ]
  },
  {
   "cell_type": "markdown",
   "metadata": {
    "id": "wdAJOfNwNRyt"
   },
   "source": [
    "Разбиение по принципу: тест - есть пропуски, трейн - нет пропусков, чтобы спрогнозировать дни для теста"
   ]
  },
  {
   "cell_type": "code",
   "execution_count": 38,
   "metadata": {
    "id": "Ua-VPb6CBiCR"
   },
   "outputs": [],
   "source": [
    "df_test = df_upsampled[df_upsampled['date_diff_post'].isna()]"
   ]
  },
  {
   "cell_type": "code",
   "execution_count": 39,
   "metadata": {
    "id": "EBOhYv-8BiCR"
   },
   "outputs": [],
   "source": [
    "df_test.drop('date_diff_post', axis=1, inplace=True)"
   ]
  },
  {
   "cell_type": "code",
   "execution_count": 40,
   "metadata": {
    "colab": {
     "base_uri": "https://localhost:8080/",
     "height": 452
    },
    "id": "zlm6M7tPBiCR",
    "outputId": "6e8e92c2-e99d-43a4-bc1a-dd3dae50c8a0"
   },
   "outputs": [
    {
     "data": {
      "text/html": [
       "<div>\n",
       "<style scoped>\n",
       "    .dataframe tbody tr th:only-of-type {\n",
       "        vertical-align: middle;\n",
       "    }\n",
       "\n",
       "    .dataframe tbody tr th {\n",
       "        vertical-align: top;\n",
       "    }\n",
       "\n",
       "    .dataframe thead th {\n",
       "        text-align: right;\n",
       "    }\n",
       "</style>\n",
       "<table border=\"1\" class=\"dataframe\">\n",
       "  <thead>\n",
       "    <tr style=\"text-align: right;\">\n",
       "      <th></th>\n",
       "      <th>customer_id</th>\n",
       "      <th>buy_post</th>\n",
       "      <th>revenue</th>\n",
       "      <th>startdatetime</th>\n",
       "      <th>dish_name</th>\n",
       "      <th>ownareaall_sqm</th>\n",
       "      <th>format_name</th>\n",
       "      <th>loyality</th>\n",
       "      <th>datetime</th>\n",
       "      <th>day_of_week</th>\n",
       "      <th>hour_of_day</th>\n",
       "      <th>month</th>\n",
       "      <th>quarter</th>\n",
       "    </tr>\n",
       "  </thead>\n",
       "  <tbody>\n",
       "    <tr>\n",
       "      <th>20458627</th>\n",
       "      <td>31487368</td>\n",
       "      <td>0</td>\n",
       "      <td>80.00</td>\n",
       "      <td>2023-06-05 11:24:25</td>\n",
       "      <td>Сок Апельсиновый 0,2л</td>\n",
       "      <td>2</td>\n",
       "      <td>Отдельно стоящий с внешней зоной</td>\n",
       "      <td>43</td>\n",
       "      <td>2023-06-05 11:24:25</td>\n",
       "      <td>0</td>\n",
       "      <td>11</td>\n",
       "      <td>6</td>\n",
       "      <td>2</td>\n",
       "    </tr>\n",
       "    <tr>\n",
       "      <th>7842495</th>\n",
       "      <td>12252900</td>\n",
       "      <td>0</td>\n",
       "      <td>79.99</td>\n",
       "      <td>2022-09-14 22:02:31</td>\n",
       "      <td>Ord.Сырный и Кисло-сладкий соусы</td>\n",
       "      <td>3</td>\n",
       "      <td>Отдельно стоящий без внешней зоны</td>\n",
       "      <td>21</td>\n",
       "      <td>2022-09-14 22:02:31</td>\n",
       "      <td>2</td>\n",
       "      <td>22</td>\n",
       "      <td>9</td>\n",
       "      <td>3</td>\n",
       "    </tr>\n",
       "    <tr>\n",
       "      <th>3569739</th>\n",
       "      <td>6666323</td>\n",
       "      <td>0</td>\n",
       "      <td>36.00</td>\n",
       "      <td>2022-10-23 18:35:57</td>\n",
       "      <td>Наггетсы (3 шт.)</td>\n",
       "      <td>2</td>\n",
       "      <td>Отдельно стоящий с внешней зоной</td>\n",
       "      <td>33</td>\n",
       "      <td>2022-10-23 18:35:57</td>\n",
       "      <td>6</td>\n",
       "      <td>18</td>\n",
       "      <td>10</td>\n",
       "      <td>4</td>\n",
       "    </tr>\n",
       "    <tr>\n",
       "      <th>16398510</th>\n",
       "      <td>25617849</td>\n",
       "      <td>0</td>\n",
       "      <td>119.99</td>\n",
       "      <td>2023-04-02 14:50:28</td>\n",
       "      <td>Кинг Фри бол</td>\n",
       "      <td>0</td>\n",
       "      <td>Фудкорт без туалета</td>\n",
       "      <td>31</td>\n",
       "      <td>2023-04-02 14:50:28</td>\n",
       "      <td>6</td>\n",
       "      <td>14</td>\n",
       "      <td>4</td>\n",
       "      <td>2</td>\n",
       "    </tr>\n",
       "    <tr>\n",
       "      <th>10152094</th>\n",
       "      <td>18346911</td>\n",
       "      <td>0</td>\n",
       "      <td>99.99</td>\n",
       "      <td>2023-01-11 18:49:21</td>\n",
       "      <td>ЧизБекон Чикен Гамбургер</td>\n",
       "      <td>1</td>\n",
       "      <td>Фудкорт с туалетом</td>\n",
       "      <td>29</td>\n",
       "      <td>2023-01-11 18:49:21</td>\n",
       "      <td>2</td>\n",
       "      <td>18</td>\n",
       "      <td>1</td>\n",
       "      <td>1</td>\n",
       "    </tr>\n",
       "  </tbody>\n",
       "</table>\n",
       "</div>"
      ],
      "text/plain": [
       "          customer_id  buy_post  revenue       startdatetime  \\\n",
       "20458627     31487368         0    80.00 2023-06-05 11:24:25   \n",
       "7842495      12252900         0    79.99 2022-09-14 22:02:31   \n",
       "3569739       6666323         0    36.00 2022-10-23 18:35:57   \n",
       "16398510     25617849         0   119.99 2023-04-02 14:50:28   \n",
       "10152094     18346911         0    99.99 2023-01-11 18:49:21   \n",
       "\n",
       "                                 dish_name  ownareaall_sqm  \\\n",
       "20458627             Сок Апельсиновый 0,2л               2   \n",
       "7842495   Ord.Сырный и Кисло-сладкий соусы               3   \n",
       "3569739                   Наггетсы (3 шт.)               2   \n",
       "16398510                      Кинг Фри бол               0   \n",
       "10152094          ЧизБекон Чикен Гамбургер               1   \n",
       "\n",
       "                                format_name  loyality            datetime  \\\n",
       "20458627   Отдельно стоящий с внешней зоной        43 2023-06-05 11:24:25   \n",
       "7842495   Отдельно стоящий без внешней зоны        21 2022-09-14 22:02:31   \n",
       "3569739    Отдельно стоящий с внешней зоной        33 2022-10-23 18:35:57   \n",
       "16398510                Фудкорт без туалета        31 2023-04-02 14:50:28   \n",
       "10152094                 Фудкорт с туалетом        29 2023-01-11 18:49:21   \n",
       "\n",
       "          day_of_week  hour_of_day  month  quarter  \n",
       "20458627            0           11      6        2  \n",
       "7842495             2           22      9        3  \n",
       "3569739             6           18     10        4  \n",
       "16398510            6           14      4        2  \n",
       "10152094            2           18      1        1  "
      ]
     },
     "execution_count": 40,
     "metadata": {},
     "output_type": "execute_result"
    }
   ],
   "source": [
    "df_test.head()"
   ]
  },
  {
   "cell_type": "code",
   "execution_count": 41,
   "metadata": {
    "id": "sXT2bg1xBiCR"
   },
   "outputs": [],
   "source": [
    "df = df_upsampled[~df_upsampled['date_diff_post'].isna()]"
   ]
  },
  {
   "cell_type": "code",
   "execution_count": 42,
   "metadata": {
    "colab": {
     "base_uri": "https://localhost:8080/",
     "height": 487
    },
    "id": "MopnEeCRBiCR",
    "outputId": "8b8b669f-e3e4-49e9-a328-1309841e0155"
   },
   "outputs": [
    {
     "data": {
      "text/html": [
       "<div>\n",
       "<style scoped>\n",
       "    .dataframe tbody tr th:only-of-type {\n",
       "        vertical-align: middle;\n",
       "    }\n",
       "\n",
       "    .dataframe tbody tr th {\n",
       "        vertical-align: top;\n",
       "    }\n",
       "\n",
       "    .dataframe thead th {\n",
       "        text-align: right;\n",
       "    }\n",
       "</style>\n",
       "<table border=\"1\" class=\"dataframe\">\n",
       "  <thead>\n",
       "    <tr style=\"text-align: right;\">\n",
       "      <th></th>\n",
       "      <th>customer_id</th>\n",
       "      <th>date_diff_post</th>\n",
       "      <th>buy_post</th>\n",
       "      <th>revenue</th>\n",
       "      <th>startdatetime</th>\n",
       "      <th>dish_name</th>\n",
       "      <th>ownareaall_sqm</th>\n",
       "      <th>format_name</th>\n",
       "      <th>loyality</th>\n",
       "      <th>datetime</th>\n",
       "      <th>day_of_week</th>\n",
       "      <th>hour_of_day</th>\n",
       "      <th>month</th>\n",
       "      <th>quarter</th>\n",
       "    </tr>\n",
       "  </thead>\n",
       "  <tbody>\n",
       "    <tr>\n",
       "      <th>11821926</th>\n",
       "      <td>20973465</td>\n",
       "      <td>11.0</td>\n",
       "      <td>1</td>\n",
       "      <td>139.98</td>\n",
       "      <td>2022-11-12 16:38:42</td>\n",
       "      <td>Кинг Фри мал</td>\n",
       "      <td>0</td>\n",
       "      <td>Фудкорт без туалета</td>\n",
       "      <td>28</td>\n",
       "      <td>2022-11-12 16:38:42</td>\n",
       "      <td>5</td>\n",
       "      <td>16</td>\n",
       "      <td>11</td>\n",
       "      <td>4</td>\n",
       "    </tr>\n",
       "    <tr>\n",
       "      <th>8207740</th>\n",
       "      <td>12584726</td>\n",
       "      <td>4.0</td>\n",
       "      <td>1</td>\n",
       "      <td>180.00</td>\n",
       "      <td>2023-05-09 14:53:23</td>\n",
       "      <td>Мистери Гранд Чиз Фреш</td>\n",
       "      <td>2</td>\n",
       "      <td>Отдельно стоящий без внешней зоны</td>\n",
       "      <td>68</td>\n",
       "      <td>2023-05-09 14:53:23</td>\n",
       "      <td>1</td>\n",
       "      <td>14</td>\n",
       "      <td>5</td>\n",
       "      <td>2</td>\n",
       "    </tr>\n",
       "    <tr>\n",
       "      <th>874342</th>\n",
       "      <td>909181</td>\n",
       "      <td>8.0</td>\n",
       "      <td>1</td>\n",
       "      <td>89.99</td>\n",
       "      <td>2022-09-29 14:54:05</td>\n",
       "      <td>Кинг Фри станд</td>\n",
       "      <td>0</td>\n",
       "      <td>Фудкорт с туалетом</td>\n",
       "      <td>14</td>\n",
       "      <td>2022-09-29 14:54:05</td>\n",
       "      <td>3</td>\n",
       "      <td>14</td>\n",
       "      <td>9</td>\n",
       "      <td>3</td>\n",
       "    </tr>\n",
       "    <tr>\n",
       "      <th>7352524</th>\n",
       "      <td>11884944</td>\n",
       "      <td>21.0</td>\n",
       "      <td>1</td>\n",
       "      <td>116.49</td>\n",
       "      <td>2023-03-30 19:26:52</td>\n",
       "      <td>Наггетсы (6 шт.)</td>\n",
       "      <td>0</td>\n",
       "      <td>Фудкорт без туалета</td>\n",
       "      <td>13</td>\n",
       "      <td>2023-03-30 19:26:52</td>\n",
       "      <td>3</td>\n",
       "      <td>19</td>\n",
       "      <td>3</td>\n",
       "      <td>1</td>\n",
       "    </tr>\n",
       "    <tr>\n",
       "      <th>19390289</th>\n",
       "      <td>29287560</td>\n",
       "      <td>19.0</td>\n",
       "      <td>1</td>\n",
       "      <td>104.99</td>\n",
       "      <td>2022-11-23 14:13:11</td>\n",
       "      <td>Up Кинг Наггетс Стандартный</td>\n",
       "      <td>0</td>\n",
       "      <td>Фудкорт без туалета</td>\n",
       "      <td>13</td>\n",
       "      <td>2022-11-23 14:13:11</td>\n",
       "      <td>2</td>\n",
       "      <td>14</td>\n",
       "      <td>11</td>\n",
       "      <td>4</td>\n",
       "    </tr>\n",
       "  </tbody>\n",
       "</table>\n",
       "</div>"
      ],
      "text/plain": [
       "          customer_id  date_diff_post  buy_post  revenue       startdatetime  \\\n",
       "11821926     20973465            11.0         1   139.98 2022-11-12 16:38:42   \n",
       "8207740      12584726             4.0         1   180.00 2023-05-09 14:53:23   \n",
       "874342         909181             8.0         1    89.99 2022-09-29 14:54:05   \n",
       "7352524      11884944            21.0         1   116.49 2023-03-30 19:26:52   \n",
       "19390289     29287560            19.0         1   104.99 2022-11-23 14:13:11   \n",
       "\n",
       "                            dish_name  ownareaall_sqm  \\\n",
       "11821926                 Кинг Фри мал               0   \n",
       "8207740        Мистери Гранд Чиз Фреш               2   \n",
       "874342                 Кинг Фри станд               0   \n",
       "7352524              Наггетсы (6 шт.)               0   \n",
       "19390289  Up Кинг Наггетс Стандартный               0   \n",
       "\n",
       "                                format_name  loyality            datetime  \\\n",
       "11821926                Фудкорт без туалета        28 2022-11-12 16:38:42   \n",
       "8207740   Отдельно стоящий без внешней зоны        68 2023-05-09 14:53:23   \n",
       "874342                   Фудкорт с туалетом        14 2022-09-29 14:54:05   \n",
       "7352524                 Фудкорт без туалета        13 2023-03-30 19:26:52   \n",
       "19390289                Фудкорт без туалета        13 2022-11-23 14:13:11   \n",
       "\n",
       "          day_of_week  hour_of_day  month  quarter  \n",
       "11821926            5           16     11        4  \n",
       "8207740             1           14      5        2  \n",
       "874342              3           14      9        3  \n",
       "7352524             3           19      3        1  \n",
       "19390289            2           14     11        4  "
      ]
     },
     "execution_count": 42,
     "metadata": {},
     "output_type": "execute_result"
    }
   ],
   "source": [
    "df.head()"
   ]
  },
  {
   "cell_type": "code",
   "execution_count": 43,
   "metadata": {
    "colab": {
     "base_uri": "https://localhost:8080/"
    },
    "id": "gDXM434aBiCR",
    "outputId": "15504ff0-b99c-4a0e-ac25-8a358ebf1e34"
   },
   "outputs": [
    {
     "data": {
      "text/plain": [
       "True"
      ]
     },
     "execution_count": 43,
     "metadata": {},
     "output_type": "execute_result"
    }
   ],
   "source": [
    "len(df) + len(df_test) == len(df_upsampled)"
   ]
  },
  {
   "cell_type": "code",
   "execution_count": 44,
   "metadata": {
    "id": "APZaHsb2BiCS"
   },
   "outputs": [],
   "source": [
    "train, test = train_test_split(df, train_size=0.6, random_state=42)"
   ]
  },
  {
   "cell_type": "code",
   "execution_count": 45,
   "metadata": {
    "id": "TpqfxnQeBiCS"
   },
   "outputs": [],
   "source": [
    "val, test = train_test_split(test, train_size=0.5, random_state=42)"
   ]
  },
  {
   "cell_type": "code",
   "execution_count": 46,
   "metadata": {
    "colab": {
     "base_uri": "https://localhost:8080/"
    },
    "id": "mZ9EiDB_BiCS",
    "outputId": "ac804ea0-1ae4-494f-f708-ae190220a090"
   },
   "outputs": [
    {
     "data": {
      "text/plain": [
       "Index(['customer_id', 'date_diff_post', 'buy_post', 'revenue', 'startdatetime',\n",
       "       'dish_name', 'ownareaall_sqm', 'format_name', 'loyality', 'datetime',\n",
       "       'day_of_week', 'hour_of_day', 'month', 'quarter'],\n",
       "      dtype='object')"
      ]
     },
     "execution_count": 46,
     "metadata": {},
     "output_type": "execute_result"
    }
   ],
   "source": [
    "train.columns"
   ]
  },
  {
   "cell_type": "code",
   "execution_count": 47,
   "metadata": {
    "id": "-fRFYaD0BiCS"
   },
   "outputs": [],
   "source": [
    "X = ['revenue', 'dish_name', 'ownareaall_sqm', 'format_name', \n",
    "     'loyality', 'day_of_week', 'hour_of_day', 'month', 'quarter'] # без целевой переменной date_diff_post\n",
    "\n",
    "y = ['date_diff_post'] # целевая переменная\n",
    "\n",
    "cat_features = ['dish_name', 'format_name', 'ownareaall_sqm', \n",
    "                'day_of_week', 'hour_of_day', 'month', 'quarter'] # категориальные признаки"
   ]
  },
  {
   "cell_type": "code",
   "execution_count": 48,
   "metadata": {
    "id": "GcE5AJovEFhT"
   },
   "outputs": [],
   "source": [
    "parameters = {\n",
    "             'cat_features': cat_features,\n",
    "             'eval_metric': 'RMSE', # метрика RMSE для задачи регрессии\n",
    "             'task_type': 'GPU',\n",
    "             'random_seed': 42,\n",
    "             'verbose': 100\n",
    "              }"
   ]
  },
  {
   "cell_type": "code",
   "execution_count": 49,
   "metadata": {
    "id": "76Jjojc6EFj0"
   },
   "outputs": [],
   "source": [
    "from catboost import CatBoostRegressor"
   ]
  },
  {
   "cell_type": "code",
   "execution_count": 50,
   "metadata": {
    "id": "NG-0Lix7EFmP"
   },
   "outputs": [],
   "source": [
    "model_rgr = CatBoostRegressor(**parameters)"
   ]
  },
  {
   "cell_type": "code",
   "execution_count": 51,
   "metadata": {
    "id": "lnkyXdu2EFov"
   },
   "outputs": [
    {
     "name": "stdout",
     "output_type": "stream",
     "text": [
      "Learning rate set to 0.1469\n",
      "0:\tlearn: 14.9585815\ttest: 14.9468576\tbest: 14.9468576 (0)\ttotal: 694ms\tremaining: 11m 33s\n",
      "100:\tlearn: 13.9222482\ttest: 13.9048784\tbest: 13.9048784 (100)\ttotal: 40.7s\tremaining: 6m 2s\n",
      "200:\tlearn: 13.9012736\ttest: 13.8839071\tbest: 13.8839071 (200)\ttotal: 1m 20s\tremaining: 5m 19s\n",
      "300:\tlearn: 13.8887316\ttest: 13.8721602\tbest: 13.8721602 (300)\ttotal: 1m 59s\tremaining: 4m 38s\n",
      "400:\tlearn: 13.8782086\ttest: 13.8630109\tbest: 13.8630109 (400)\ttotal: 2m 38s\tremaining: 3m 57s\n",
      "500:\tlearn: 13.8694729\ttest: 13.8556995\tbest: 13.8556995 (500)\ttotal: 3m 20s\tremaining: 3m 19s\n",
      "600:\tlearn: 13.8605334\ttest: 13.8482454\tbest: 13.8482454 (600)\ttotal: 4m\tremaining: 2m 39s\n",
      "700:\tlearn: 13.8528777\ttest: 13.8430182\tbest: 13.8430182 (700)\ttotal: 4m 39s\tremaining: 1m 59s\n",
      "800:\tlearn: 13.8463964\ttest: 13.8385041\tbest: 13.8385041 (800)\ttotal: 5m 18s\tremaining: 1m 19s\n",
      "900:\tlearn: 13.8395371\ttest: 13.8337018\tbest: 13.8337018 (900)\ttotal: 5m 57s\tremaining: 39.3s\n",
      "999:\tlearn: 13.8309734\ttest: 13.8274822\tbest: 13.8274822 (999)\ttotal: 6m 37s\tremaining: 0us\n",
      "bestTest = 13.82748222\n",
      "bestIteration = 999\n"
     ]
    },
    {
     "data": {
      "text/plain": [
       "<catboost.core.CatBoostRegressor at 0x18b68f8dcc0>"
      ]
     },
     "execution_count": 51,
     "metadata": {},
     "output_type": "execute_result"
    }
   ],
   "source": [
    "model_rgr.fit(train[X], train[y], eval_set=(val[X], val[y]))"
   ]
  },
  {
   "cell_type": "code",
   "execution_count": 52,
   "metadata": {
    "id": "5nWSwq2rEFwI"
   },
   "outputs": [],
   "source": [
    "# прогноз количества дней для метрики\n",
    "\n",
    "test['pred_date_diff_post'] = model_rgr.predict(test[X])"
   ]
  },
  {
   "cell_type": "code",
   "execution_count": 53,
   "metadata": {
    "id": "ETriWHlvEF7-"
   },
   "outputs": [
    {
     "data": {
      "text/plain": [
       "13.850931654897892"
      ]
     },
     "execution_count": 53,
     "metadata": {},
     "output_type": "execute_result"
    }
   ],
   "source": [
    "# метрика RMSE\n",
    "\n",
    "rmse = np.sqrt(mean_squared_error(test['date_diff_post'], test['pred_date_diff_post']))\n",
    "\n",
    "rmse"
   ]
  },
  {
   "cell_type": "code",
   "execution_count": 54,
   "metadata": {
    "id": "QI5YM1JpI771"
   },
   "outputs": [],
   "source": [
    "# прогноз количества дней до следующей покупки\n",
    "\n",
    "df_test['date_diff_post'] = model_rgr.predict(df_test[X])"
   ]
  },
  {
   "cell_type": "code",
   "execution_count": 55,
   "metadata": {
    "id": "on-DBcdCI8K7"
   },
   "outputs": [],
   "source": [
    "# объединение датасетов\n",
    "\n",
    "df_ready = pd.concat([df, df_test])"
   ]
  },
  {
   "cell_type": "code",
   "execution_count": 56,
   "metadata": {
    "id": "H0IO7Jl2TvUX"
   },
   "outputs": [],
   "source": [
    "df_ready['date_diff_post'] = df_ready['date_diff_post'].round().astype(int)"
   ]
  },
  {
   "cell_type": "code",
   "execution_count": 57,
   "metadata": {
    "id": "OZ0Kh84WneeL"
   },
   "outputs": [
    {
     "data": {
      "text/html": [
       "<div>\n",
       "<style scoped>\n",
       "    .dataframe tbody tr th:only-of-type {\n",
       "        vertical-align: middle;\n",
       "    }\n",
       "\n",
       "    .dataframe tbody tr th {\n",
       "        vertical-align: top;\n",
       "    }\n",
       "\n",
       "    .dataframe thead th {\n",
       "        text-align: right;\n",
       "    }\n",
       "</style>\n",
       "<table border=\"1\" class=\"dataframe\">\n",
       "  <thead>\n",
       "    <tr style=\"text-align: right;\">\n",
       "      <th></th>\n",
       "      <th>customer_id</th>\n",
       "      <th>date_diff_post</th>\n",
       "      <th>buy_post</th>\n",
       "      <th>revenue</th>\n",
       "      <th>startdatetime</th>\n",
       "      <th>dish_name</th>\n",
       "      <th>ownareaall_sqm</th>\n",
       "      <th>format_name</th>\n",
       "      <th>loyality</th>\n",
       "      <th>datetime</th>\n",
       "      <th>day_of_week</th>\n",
       "      <th>hour_of_day</th>\n",
       "      <th>month</th>\n",
       "      <th>quarter</th>\n",
       "    </tr>\n",
       "  </thead>\n",
       "  <tbody>\n",
       "    <tr>\n",
       "      <th>11821926</th>\n",
       "      <td>20973465</td>\n",
       "      <td>11</td>\n",
       "      <td>1</td>\n",
       "      <td>139.98</td>\n",
       "      <td>2022-11-12 16:38:42</td>\n",
       "      <td>Кинг Фри мал</td>\n",
       "      <td>0</td>\n",
       "      <td>Фудкорт без туалета</td>\n",
       "      <td>28</td>\n",
       "      <td>2022-11-12 16:38:42</td>\n",
       "      <td>5</td>\n",
       "      <td>16</td>\n",
       "      <td>11</td>\n",
       "      <td>4</td>\n",
       "    </tr>\n",
       "    <tr>\n",
       "      <th>8207740</th>\n",
       "      <td>12584726</td>\n",
       "      <td>4</td>\n",
       "      <td>1</td>\n",
       "      <td>180.00</td>\n",
       "      <td>2023-05-09 14:53:23</td>\n",
       "      <td>Мистери Гранд Чиз Фреш</td>\n",
       "      <td>2</td>\n",
       "      <td>Отдельно стоящий без внешней зоны</td>\n",
       "      <td>68</td>\n",
       "      <td>2023-05-09 14:53:23</td>\n",
       "      <td>1</td>\n",
       "      <td>14</td>\n",
       "      <td>5</td>\n",
       "      <td>2</td>\n",
       "    </tr>\n",
       "    <tr>\n",
       "      <th>874342</th>\n",
       "      <td>909181</td>\n",
       "      <td>8</td>\n",
       "      <td>1</td>\n",
       "      <td>89.99</td>\n",
       "      <td>2022-09-29 14:54:05</td>\n",
       "      <td>Кинг Фри станд</td>\n",
       "      <td>0</td>\n",
       "      <td>Фудкорт с туалетом</td>\n",
       "      <td>14</td>\n",
       "      <td>2022-09-29 14:54:05</td>\n",
       "      <td>3</td>\n",
       "      <td>14</td>\n",
       "      <td>9</td>\n",
       "      <td>3</td>\n",
       "    </tr>\n",
       "    <tr>\n",
       "      <th>7352524</th>\n",
       "      <td>11884944</td>\n",
       "      <td>21</td>\n",
       "      <td>1</td>\n",
       "      <td>116.49</td>\n",
       "      <td>2023-03-30 19:26:52</td>\n",
       "      <td>Наггетсы (6 шт.)</td>\n",
       "      <td>0</td>\n",
       "      <td>Фудкорт без туалета</td>\n",
       "      <td>13</td>\n",
       "      <td>2023-03-30 19:26:52</td>\n",
       "      <td>3</td>\n",
       "      <td>19</td>\n",
       "      <td>3</td>\n",
       "      <td>1</td>\n",
       "    </tr>\n",
       "    <tr>\n",
       "      <th>19390289</th>\n",
       "      <td>29287560</td>\n",
       "      <td>19</td>\n",
       "      <td>1</td>\n",
       "      <td>104.99</td>\n",
       "      <td>2022-11-23 14:13:11</td>\n",
       "      <td>Up Кинг Наггетс Стандартный</td>\n",
       "      <td>0</td>\n",
       "      <td>Фудкорт без туалета</td>\n",
       "      <td>13</td>\n",
       "      <td>2022-11-23 14:13:11</td>\n",
       "      <td>2</td>\n",
       "      <td>14</td>\n",
       "      <td>11</td>\n",
       "      <td>4</td>\n",
       "    </tr>\n",
       "  </tbody>\n",
       "</table>\n",
       "</div>"
      ],
      "text/plain": [
       "          customer_id  date_diff_post  buy_post  revenue       startdatetime  \\\n",
       "11821926     20973465              11         1   139.98 2022-11-12 16:38:42   \n",
       "8207740      12584726               4         1   180.00 2023-05-09 14:53:23   \n",
       "874342         909181               8         1    89.99 2022-09-29 14:54:05   \n",
       "7352524      11884944              21         1   116.49 2023-03-30 19:26:52   \n",
       "19390289     29287560              19         1   104.99 2022-11-23 14:13:11   \n",
       "\n",
       "                            dish_name  ownareaall_sqm  \\\n",
       "11821926                 Кинг Фри мал               0   \n",
       "8207740        Мистери Гранд Чиз Фреш               2   \n",
       "874342                 Кинг Фри станд               0   \n",
       "7352524              Наггетсы (6 шт.)               0   \n",
       "19390289  Up Кинг Наггетс Стандартный               0   \n",
       "\n",
       "                                format_name  loyality            datetime  \\\n",
       "11821926                Фудкорт без туалета        28 2022-11-12 16:38:42   \n",
       "8207740   Отдельно стоящий без внешней зоны        68 2023-05-09 14:53:23   \n",
       "874342                   Фудкорт с туалетом        14 2022-09-29 14:54:05   \n",
       "7352524                 Фудкорт без туалета        13 2023-03-30 19:26:52   \n",
       "19390289                Фудкорт без туалета        13 2022-11-23 14:13:11   \n",
       "\n",
       "          day_of_week  hour_of_day  month  quarter  \n",
       "11821926            5           16     11        4  \n",
       "8207740             1           14      5        2  \n",
       "874342              3           14      9        3  \n",
       "7352524             3           19      3        1  \n",
       "19390289            2           14     11        4  "
      ]
     },
     "execution_count": 57,
     "metadata": {},
     "output_type": "execute_result"
    }
   ],
   "source": [
    "df_ready.head()"
   ]
  },
  {
   "cell_type": "code",
   "execution_count": 58,
   "metadata": {
    "id": "5ehfX7ZXMLiO"
   },
   "outputs": [
    {
     "data": {
      "text/plain": [
       "True"
      ]
     },
     "execution_count": 58,
     "metadata": {},
     "output_type": "execute_result"
    }
   ],
   "source": [
    "len(df_ready) == len(df_upsampled)"
   ]
  },
  {
   "cell_type": "code",
   "execution_count": 59,
   "metadata": {
    "id": "YQuzdqWcK1zu"
   },
   "outputs": [
    {
     "name": "stdout",
     "output_type": "stream",
     "text": [
      "Total NA-values (всего пропусков) = 0\n"
     ]
    },
    {
     "data": {
      "text/html": [
       "<div>\n",
       "<style scoped>\n",
       "    .dataframe tbody tr th:only-of-type {\n",
       "        vertical-align: middle;\n",
       "    }\n",
       "\n",
       "    .dataframe tbody tr th {\n",
       "        vertical-align: top;\n",
       "    }\n",
       "\n",
       "    .dataframe thead th {\n",
       "        text-align: right;\n",
       "    }\n",
       "</style>\n",
       "<table border=\"1\" class=\"dataframe\">\n",
       "  <thead>\n",
       "    <tr style=\"text-align: right;\">\n",
       "      <th></th>\n",
       "    </tr>\n",
       "  </thead>\n",
       "  <tbody>\n",
       "    <tr>\n",
       "      <th>Total (всего пропусков)</th>\n",
       "    </tr>\n",
       "    <tr>\n",
       "      <th>Percent (процент пропусков)</th>\n",
       "    </tr>\n",
       "    <tr>\n",
       "      <th>Types (тип данных)</th>\n",
       "    </tr>\n",
       "  </tbody>\n",
       "</table>\n",
       "</div>"
      ],
      "text/plain": [
       "Empty DataFrame\n",
       "Columns: []\n",
       "Index: [Total (всего пропусков), Percent (процент пропусков), Types (тип данных)]"
      ]
     },
     "execution_count": 59,
     "metadata": {},
     "output_type": "execute_result"
    }
   ],
   "source": [
    "check_missings(df_ready)"
   ]
  },
  {
   "cell_type": "markdown",
   "metadata": {
    "id": "uC-GtTXQbtN_"
   },
   "source": [
    "### Классификация: прогноз оттока посетителей"
   ]
  },
  {
   "cell_type": "code",
   "execution_count": 60,
   "metadata": {
    "id": "H3enIUtVbEJ2"
   },
   "outputs": [],
   "source": [
    "train, test = train_test_split(df_ready, train_size=0.6, random_state=42, stratify=df_ready['buy_post'])"
   ]
  },
  {
   "cell_type": "code",
   "execution_count": 61,
   "metadata": {
    "id": "sU5GABJJbEMi"
   },
   "outputs": [],
   "source": [
    "val, test = train_test_split(test, train_size=0.5, random_state=42, stratify=test['buy_post'])"
   ]
  },
  {
   "cell_type": "code",
   "execution_count": 62,
   "metadata": {
    "id": "nkIXm1GrcZa6"
   },
   "outputs": [
    {
     "data": {
      "text/plain": [
       "Index(['customer_id', 'date_diff_post', 'buy_post', 'revenue', 'startdatetime',\n",
       "       'dish_name', 'ownareaall_sqm', 'format_name', 'loyality', 'datetime',\n",
       "       'day_of_week', 'hour_of_day', 'month', 'quarter'],\n",
       "      dtype='object')"
      ]
     },
     "execution_count": 62,
     "metadata": {},
     "output_type": "execute_result"
    }
   ],
   "source": [
    "train.columns"
   ]
  },
  {
   "cell_type": "code",
   "execution_count": 63,
   "metadata": {
    "id": "3SFUFUX3bEO6"
   },
   "outputs": [],
   "source": [
    "X = ['date_diff_post', 'revenue', 'dish_name', 'ownareaall_sqm', 'format_name', \n",
    "     'loyality', 'day_of_week', 'hour_of_day', 'month', 'quarter'] # без целевой переменной date_diff_post\n",
    "\n",
    "y = ['buy_post'] # целевая переменная\n",
    "\n",
    "cat_features = ['dish_name', 'format_name', 'ownareaall_sqm', \n",
    "                'day_of_week', 'hour_of_day', 'month', 'quarter'] # категориальные признаки"
   ]
  },
  {
   "cell_type": "code",
   "execution_count": 64,
   "metadata": {
    "id": "dbOCdgsRbERh"
   },
   "outputs": [],
   "source": [
    "from catboost import CatBoostClassifier"
   ]
  },
  {
   "cell_type": "code",
   "execution_count": 65,
   "metadata": {
    "id": "FX7qaIHEbET-"
   },
   "outputs": [],
   "source": [
    "parameters = {\n",
    "             'cat_features': cat_features,\n",
    "             'eval_metric': 'F1', # метрика F1 для задачи классификации\n",
    "             'task_type': 'GPU',\n",
    "             'random_seed': 42,\n",
    "             'verbose': 100\n",
    "              }"
   ]
  },
  {
   "cell_type": "code",
   "execution_count": 66,
   "metadata": {
    "id": "jOUKJOA3bEWY"
   },
   "outputs": [],
   "source": [
    "model_clf = CatBoostClassifier(**parameters)"
   ]
  },
  {
   "cell_type": "code",
   "execution_count": 67,
   "metadata": {
    "id": "NdeEzDkLbEY9"
   },
   "outputs": [
    {
     "name": "stdout",
     "output_type": "stream",
     "text": [
      "Learning rate set to 0.034092\n",
      "0:\tlearn: 0.7896103\ttest: 0.7897767\tbest: 0.7897767 (0)\ttotal: 1.02s\tremaining: 16m 57s\n",
      "100:\tlearn: 0.8870448\ttest: 0.8868302\tbest: 0.8868302 (100)\ttotal: 1m 26s\tremaining: 12m 50s\n",
      "200:\tlearn: 0.8973470\ttest: 0.8972606\tbest: 0.8972606 (200)\ttotal: 2m 56s\tremaining: 11m 40s\n",
      "300:\tlearn: 0.9037591\ttest: 0.9038173\tbest: 0.9038228 (299)\ttotal: 4m 27s\tremaining: 10m 21s\n",
      "400:\tlearn: 0.9078531\ttest: 0.9079741\tbest: 0.9079741 (400)\ttotal: 5m 57s\tremaining: 8m 53s\n",
      "500:\tlearn: 0.9107695\ttest: 0.9110194\tbest: 0.9110194 (500)\ttotal: 7m 25s\tremaining: 7m 23s\n",
      "600:\tlearn: 0.9133328\ttest: 0.9137731\tbest: 0.9137731 (600)\ttotal: 8m 54s\tremaining: 5m 54s\n",
      "700:\tlearn: 0.9156168\ttest: 0.9161275\tbest: 0.9161275 (700)\ttotal: 10m 23s\tremaining: 4m 25s\n",
      "800:\tlearn: 0.9175902\ttest: 0.9182238\tbest: 0.9182238 (800)\ttotal: 11m 53s\tremaining: 2m 57s\n",
      "900:\tlearn: 0.9191950\ttest: 0.9199497\tbest: 0.9199497 (900)\ttotal: 13m 24s\tremaining: 1m 28s\n",
      "999:\tlearn: 0.9204146\ttest: 0.9212107\tbest: 0.9212107 (999)\ttotal: 14m 51s\tremaining: 0us\n",
      "bestTest = 0.9212107486\n",
      "bestIteration = 999\n"
     ]
    },
    {
     "data": {
      "text/plain": [
       "<catboost.core.CatBoostClassifier at 0x18b68faefb0>"
      ]
     },
     "execution_count": 67,
     "metadata": {},
     "output_type": "execute_result"
    }
   ],
   "source": [
    "model_clf.fit(train[X], train[y], eval_set=(val[X], val[y]))"
   ]
  },
  {
   "cell_type": "code",
   "execution_count": 68,
   "metadata": {
    "id": "wjIPtsXUbEbW"
   },
   "outputs": [
    {
     "data": {
      "text/html": [
       "<div>\n",
       "<style scoped>\n",
       "    .dataframe tbody tr th:only-of-type {\n",
       "        vertical-align: middle;\n",
       "    }\n",
       "\n",
       "    .dataframe tbody tr th {\n",
       "        vertical-align: top;\n",
       "    }\n",
       "\n",
       "    .dataframe thead th {\n",
       "        text-align: right;\n",
       "    }\n",
       "</style>\n",
       "<table border=\"1\" class=\"dataframe\">\n",
       "  <thead>\n",
       "    <tr style=\"text-align: right;\">\n",
       "      <th></th>\n",
       "      <th>Feature Id</th>\n",
       "      <th>Importances</th>\n",
       "    </tr>\n",
       "  </thead>\n",
       "  <tbody>\n",
       "    <tr>\n",
       "      <th>0</th>\n",
       "      <td>date_diff_post</td>\n",
       "      <td>49.020616</td>\n",
       "    </tr>\n",
       "    <tr>\n",
       "      <th>1</th>\n",
       "      <td>loyality</td>\n",
       "      <td>40.897341</td>\n",
       "    </tr>\n",
       "    <tr>\n",
       "      <th>2</th>\n",
       "      <td>month</td>\n",
       "      <td>2.597820</td>\n",
       "    </tr>\n",
       "    <tr>\n",
       "      <th>3</th>\n",
       "      <td>revenue</td>\n",
       "      <td>2.342756</td>\n",
       "    </tr>\n",
       "    <tr>\n",
       "      <th>4</th>\n",
       "      <td>dish_name</td>\n",
       "      <td>2.110189</td>\n",
       "    </tr>\n",
       "    <tr>\n",
       "      <th>5</th>\n",
       "      <td>hour_of_day</td>\n",
       "      <td>1.567392</td>\n",
       "    </tr>\n",
       "    <tr>\n",
       "      <th>6</th>\n",
       "      <td>day_of_week</td>\n",
       "      <td>0.574136</td>\n",
       "    </tr>\n",
       "    <tr>\n",
       "      <th>7</th>\n",
       "      <td>format_name</td>\n",
       "      <td>0.451963</td>\n",
       "    </tr>\n",
       "    <tr>\n",
       "      <th>8</th>\n",
       "      <td>quarter</td>\n",
       "      <td>0.241385</td>\n",
       "    </tr>\n",
       "    <tr>\n",
       "      <th>9</th>\n",
       "      <td>ownareaall_sqm</td>\n",
       "      <td>0.196404</td>\n",
       "    </tr>\n",
       "  </tbody>\n",
       "</table>\n",
       "</div>"
      ],
      "text/plain": [
       "       Feature Id  Importances\n",
       "0  date_diff_post    49.020616\n",
       "1        loyality    40.897341\n",
       "2           month     2.597820\n",
       "3         revenue     2.342756\n",
       "4       dish_name     2.110189\n",
       "5     hour_of_day     1.567392\n",
       "6     day_of_week     0.574136\n",
       "7     format_name     0.451963\n",
       "8         quarter     0.241385\n",
       "9  ownareaall_sqm     0.196404"
      ]
     },
     "execution_count": 68,
     "metadata": {},
     "output_type": "execute_result"
    }
   ],
   "source": [
    "# важность признаков\n",
    "\n",
    "model_clf.get_feature_importance(prettified=True)"
   ]
  },
  {
   "cell_type": "code",
   "execution_count": 69,
   "metadata": {
    "id": "3e2URnFUbEd0"
   },
   "outputs": [],
   "source": [
    "# прогноз количества дней для метрики\n",
    "\n",
    "test['pred_buy_post'] = model_clf.predict(test[X])"
   ]
  },
  {
   "cell_type": "code",
   "execution_count": 70,
   "metadata": {
    "id": "0NQmlvOzbEiw"
   },
   "outputs": [
    {
     "data": {
      "text/plain": [
       "0.9215257748710242"
      ]
     },
     "execution_count": 70,
     "metadata": {},
     "output_type": "execute_result"
    }
   ],
   "source": [
    "# метрика F1\n",
    "\n",
    "f1_score(test['buy_post'], test['pred_buy_post'])"
   ]
  },
  {
   "cell_type": "code",
   "execution_count": 71,
   "metadata": {
    "id": "SFe25EDTbEnn"
   },
   "outputs": [
    {
     "name": "stdout",
     "output_type": "stream",
     "text": [
      "              precision    recall  f1-score   support\n",
      "\n",
      "           0       0.89      0.97      0.93    966092\n",
      "           1       0.97      0.88      0.92    966092\n",
      "\n",
      "    accuracy                           0.93   1932184\n",
      "   macro avg       0.93      0.93      0.92   1932184\n",
      "weighted avg       0.93      0.93      0.92   1932184\n",
      "\n"
     ]
    }
   ],
   "source": [
    "print(classification_report(test['buy_post'], test['pred_buy_post']))"
   ]
  },
  {
   "cell_type": "code",
   "execution_count": 72,
   "metadata": {
    "id": "afCTJ-X7bEsa"
   },
   "outputs": [],
   "source": [
    "test_data = Pool(data=test[X],\n",
    "                label=test[y],\n",
    "                cat_features=cat_features)"
   ]
  },
  {
   "cell_type": "code",
   "execution_count": 73,
   "metadata": {
    "id": "5rwqhjm7bElP"
   },
   "outputs": [
    {
     "data": {
      "text/plain": [
       "0.9250149054127349"
      ]
     },
     "execution_count": 73,
     "metadata": {},
     "output_type": "execute_result"
    }
   ],
   "source": [
    "# метрика ROC AUC\n",
    "\n",
    "roc_auc_score(test['buy_post'], test['pred_buy_post'])"
   ]
  },
  {
   "cell_type": "code",
   "execution_count": 74,
   "metadata": {
    "id": "89jO3FBWbEui",
    "scrolled": false
   },
   "outputs": [
    {
     "data": {
      "image/png": "[encoded data removed]",
      "text/plain": [
       "<Figure size 1600x800 with 1 Axes>"
      ]
     },
     "metadata": {},
     "output_type": "display_data"
    }
   ],
   "source": [
    "# построение кривой ROC AUC\n",
    "\n",
    "get_roc_curve(model_clf, test_data, plot=True);"
   ]
  },
  {
   "cell_type": "markdown",
   "metadata": {},
   "source": [
    "### Кросс-валидация"
   ]
  },
  {
   "cell_type": "code",
   "execution_count": 75,
   "metadata": {},
   "outputs": [],
   "source": [
    "parameters = {\n",
    "             'cat_features': cat_features,\n",
    "             'eval_metric': 'F1',\n",
    "             'loss_function': 'Logloss',\n",
    "             'task_type': 'GPU',\n",
    "             'random_seed': 42,\n",
    "             'verbose': 100\n",
    "              }"
   ]
  },
  {
   "cell_type": "code",
   "execution_count": 76,
   "metadata": {},
   "outputs": [],
   "source": [
    "train_data = Pool(train[X],\n",
    "                  label=train[y],\n",
    "                  cat_features=cat_features)"
   ]
  },
  {
   "cell_type": "code",
   "execution_count": 77,
   "metadata": {},
   "outputs": [
    {
     "name": "stdout",
     "output_type": "stream",
     "text": [
      "Training on fold [0/5]\n",
      "bestTest = 0.9136585591\n",
      "bestIteration = 999\n",
      "Training on fold [1/5]\n",
      "bestTest = 0.9117407372\n",
      "bestIteration = 999\n",
      "Training on fold [2/5]\n",
      "bestTest = 0.9120228729\n",
      "bestIteration = 995\n",
      "Training on fold [3/5]\n",
      "bestTest = 0.9109416182\n",
      "bestIteration = 998\n",
      "Training on fold [4/5]\n",
      "bestTest = 0.913663756\n",
      "bestIteration = 998\n"
     ]
    }
   ],
   "source": [
    "cv_data = cv(\n",
    "    params = parameters,\n",
    "    pool = train_data,\n",
    "    fold_count=5,\n",
    "    shuffle=True,\n",
    "    partition_random_seed=0,\n",
    "    stratified=False,\n",
    "    verbose=False\n",
    ")"
   ]
  },
  {
   "cell_type": "code",
   "execution_count": 78,
   "metadata": {},
   "outputs": [
    {
     "data": {
      "text/html": [
       "<div>\n",
       "<style scoped>\n",
       "    .dataframe tbody tr th:only-of-type {\n",
       "        vertical-align: middle;\n",
       "    }\n",
       "\n",
       "    .dataframe tbody tr th {\n",
       "        vertical-align: top;\n",
       "    }\n",
       "\n",
       "    .dataframe thead th {\n",
       "        text-align: right;\n",
       "    }\n",
       "</style>\n",
       "<table border=\"1\" class=\"dataframe\">\n",
       "  <thead>\n",
       "    <tr style=\"text-align: right;\">\n",
       "      <th></th>\n",
       "      <th>iterations</th>\n",
       "      <th>test-F1-mean</th>\n",
       "      <th>test-F1-std</th>\n",
       "      <th>train-F1-mean</th>\n",
       "      <th>train-F1-std</th>\n",
       "      <th>test-Logloss-mean</th>\n",
       "      <th>test-Logloss-std</th>\n",
       "      <th>train-Logloss-mean</th>\n",
       "      <th>train-Logloss-std</th>\n",
       "    </tr>\n",
       "  </thead>\n",
       "  <tbody>\n",
       "    <tr>\n",
       "      <th>0</th>\n",
       "      <td>0</td>\n",
       "      <td>0.789610</td>\n",
       "      <td>0.000464</td>\n",
       "      <td>0.789610</td>\n",
       "      <td>0.000116</td>\n",
       "      <td>0.666753</td>\n",
       "      <td>0.000036</td>\n",
       "      <td>0.666753</td>\n",
       "      <td>0.000052</td>\n",
       "    </tr>\n",
       "    <tr>\n",
       "      <th>1</th>\n",
       "      <td>1</td>\n",
       "      <td>0.839286</td>\n",
       "      <td>0.000290</td>\n",
       "      <td>0.839288</td>\n",
       "      <td>0.000078</td>\n",
       "      <td>0.640695</td>\n",
       "      <td>0.000066</td>\n",
       "      <td>0.640694</td>\n",
       "      <td>0.000095</td>\n",
       "    </tr>\n",
       "    <tr>\n",
       "      <th>2</th>\n",
       "      <td>2</td>\n",
       "      <td>0.840026</td>\n",
       "      <td>0.001513</td>\n",
       "      <td>0.840048</td>\n",
       "      <td>0.001592</td>\n",
       "      <td>0.618983</td>\n",
       "      <td>0.000141</td>\n",
       "      <td>0.618982</td>\n",
       "      <td>0.000156</td>\n",
       "    </tr>\n",
       "    <tr>\n",
       "      <th>3</th>\n",
       "      <td>3</td>\n",
       "      <td>0.840484</td>\n",
       "      <td>0.000299</td>\n",
       "      <td>0.840484</td>\n",
       "      <td>0.000075</td>\n",
       "      <td>0.598800</td>\n",
       "      <td>0.000126</td>\n",
       "      <td>0.598799</td>\n",
       "      <td>0.000165</td>\n",
       "    </tr>\n",
       "    <tr>\n",
       "      <th>4</th>\n",
       "      <td>4</td>\n",
       "      <td>0.834632</td>\n",
       "      <td>0.003371</td>\n",
       "      <td>0.834657</td>\n",
       "      <td>0.003158</td>\n",
       "      <td>0.579702</td>\n",
       "      <td>0.000347</td>\n",
       "      <td>0.579700</td>\n",
       "      <td>0.000352</td>\n",
       "    </tr>\n",
       "    <tr>\n",
       "      <th>...</th>\n",
       "      <td>...</td>\n",
       "      <td>...</td>\n",
       "      <td>...</td>\n",
       "      <td>...</td>\n",
       "      <td>...</td>\n",
       "      <td>...</td>\n",
       "      <td>...</td>\n",
       "      <td>...</td>\n",
       "      <td>...</td>\n",
       "    </tr>\n",
       "    <tr>\n",
       "      <th>995</th>\n",
       "      <td>995</td>\n",
       "      <td>0.912393</td>\n",
       "      <td>0.001215</td>\n",
       "      <td>0.911722</td>\n",
       "      <td>0.001020</td>\n",
       "      <td>0.217145</td>\n",
       "      <td>0.002222</td>\n",
       "      <td>0.219122</td>\n",
       "      <td>0.001990</td>\n",
       "    </tr>\n",
       "    <tr>\n",
       "      <th>996</th>\n",
       "      <td>996</td>\n",
       "      <td>0.912398</td>\n",
       "      <td>0.001208</td>\n",
       "      <td>0.911727</td>\n",
       "      <td>0.001013</td>\n",
       "      <td>0.217129</td>\n",
       "      <td>0.002205</td>\n",
       "      <td>0.219108</td>\n",
       "      <td>0.001974</td>\n",
       "    </tr>\n",
       "    <tr>\n",
       "      <th>997</th>\n",
       "      <td>997</td>\n",
       "      <td>0.912397</td>\n",
       "      <td>0.001209</td>\n",
       "      <td>0.911727</td>\n",
       "      <td>0.001011</td>\n",
       "      <td>0.217126</td>\n",
       "      <td>0.002205</td>\n",
       "      <td>0.219105</td>\n",
       "      <td>0.001974</td>\n",
       "    </tr>\n",
       "    <tr>\n",
       "      <th>998</th>\n",
       "      <td>998</td>\n",
       "      <td>0.912400</td>\n",
       "      <td>0.001212</td>\n",
       "      <td>0.911728</td>\n",
       "      <td>0.001013</td>\n",
       "      <td>0.217120</td>\n",
       "      <td>0.002205</td>\n",
       "      <td>0.219101</td>\n",
       "      <td>0.001975</td>\n",
       "    </tr>\n",
       "    <tr>\n",
       "      <th>999</th>\n",
       "      <td>999</td>\n",
       "      <td>0.912404</td>\n",
       "      <td>0.001214</td>\n",
       "      <td>0.911731</td>\n",
       "      <td>0.001014</td>\n",
       "      <td>0.217116</td>\n",
       "      <td>0.002207</td>\n",
       "      <td>0.219098</td>\n",
       "      <td>0.001977</td>\n",
       "    </tr>\n",
       "  </tbody>\n",
       "</table>\n",
       "<p>1000 rows × 9 columns</p>\n",
       "</div>"
      ],
      "text/plain": [
       "     iterations  test-F1-mean  test-F1-std  train-F1-mean  train-F1-std  \\\n",
       "0             0      0.789610     0.000464       0.789610      0.000116   \n",
       "1             1      0.839286     0.000290       0.839288      0.000078   \n",
       "2             2      0.840026     0.001513       0.840048      0.001592   \n",
       "3             3      0.840484     0.000299       0.840484      0.000075   \n",
       "4             4      0.834632     0.003371       0.834657      0.003158   \n",
       "..          ...           ...          ...            ...           ...   \n",
       "995         995      0.912393     0.001215       0.911722      0.001020   \n",
       "996         996      0.912398     0.001208       0.911727      0.001013   \n",
       "997         997      0.912397     0.001209       0.911727      0.001011   \n",
       "998         998      0.912400     0.001212       0.911728      0.001013   \n",
       "999         999      0.912404     0.001214       0.911731      0.001014   \n",
       "\n",
       "     test-Logloss-mean  test-Logloss-std  train-Logloss-mean  \\\n",
       "0             0.666753          0.000036            0.666753   \n",
       "1             0.640695          0.000066            0.640694   \n",
       "2             0.618983          0.000141            0.618982   \n",
       "3             0.598800          0.000126            0.598799   \n",
       "4             0.579702          0.000347            0.579700   \n",
       "..                 ...               ...                 ...   \n",
       "995           0.217145          0.002222            0.219122   \n",
       "996           0.217129          0.002205            0.219108   \n",
       "997           0.217126          0.002205            0.219105   \n",
       "998           0.217120          0.002205            0.219101   \n",
       "999           0.217116          0.002207            0.219098   \n",
       "\n",
       "     train-Logloss-std  \n",
       "0             0.000052  \n",
       "1             0.000095  \n",
       "2             0.000156  \n",
       "3             0.000165  \n",
       "4             0.000352  \n",
       "..                 ...  \n",
       "995           0.001990  \n",
       "996           0.001974  \n",
       "997           0.001974  \n",
       "998           0.001975  \n",
       "999           0.001977  \n",
       "\n",
       "[1000 rows x 9 columns]"
      ]
     },
     "execution_count": 78,
     "metadata": {},
     "output_type": "execute_result"
    }
   ],
   "source": [
    "cv_data"
   ]
  },
  {
   "cell_type": "code",
   "execution_count": 79,
   "metadata": {},
   "outputs": [
    {
     "data": {
      "text/html": [
       "<div>\n",
       "<style scoped>\n",
       "    .dataframe tbody tr th:only-of-type {\n",
       "        vertical-align: middle;\n",
       "    }\n",
       "\n",
       "    .dataframe tbody tr th {\n",
       "        vertical-align: top;\n",
       "    }\n",
       "\n",
       "    .dataframe thead th {\n",
       "        text-align: right;\n",
       "    }\n",
       "</style>\n",
       "<table border=\"1\" class=\"dataframe\">\n",
       "  <thead>\n",
       "    <tr style=\"text-align: right;\">\n",
       "      <th></th>\n",
       "      <th>iterations</th>\n",
       "      <th>test-F1-mean</th>\n",
       "      <th>test-F1-std</th>\n",
       "      <th>train-F1-mean</th>\n",
       "      <th>train-F1-std</th>\n",
       "      <th>test-Logloss-mean</th>\n",
       "      <th>test-Logloss-std</th>\n",
       "      <th>train-Logloss-mean</th>\n",
       "      <th>train-Logloss-std</th>\n",
       "    </tr>\n",
       "  </thead>\n",
       "  <tbody>\n",
       "    <tr>\n",
       "      <th>999</th>\n",
       "      <td>999</td>\n",
       "      <td>0.912404</td>\n",
       "      <td>0.001214</td>\n",
       "      <td>0.911731</td>\n",
       "      <td>0.001014</td>\n",
       "      <td>0.217116</td>\n",
       "      <td>0.002207</td>\n",
       "      <td>0.219098</td>\n",
       "      <td>0.001977</td>\n",
       "    </tr>\n",
       "  </tbody>\n",
       "</table>\n",
       "</div>"
      ],
      "text/plain": [
       "     iterations  test-F1-mean  test-F1-std  train-F1-mean  train-F1-std  \\\n",
       "999         999      0.912404     0.001214       0.911731      0.001014   \n",
       "\n",
       "     test-Logloss-mean  test-Logloss-std  train-Logloss-mean  \\\n",
       "999           0.217116          0.002207            0.219098   \n",
       "\n",
       "     train-Logloss-std  \n",
       "999           0.001977  "
      ]
     },
     "execution_count": 79,
     "metadata": {},
     "output_type": "execute_result"
    }
   ],
   "source": [
    "cv_data[cv_data['test-F1-mean'] == cv_data['test-F1-mean'].max()]"
   ]
  },
  {
   "cell_type": "code",
   "execution_count": 80,
   "metadata": {},
   "outputs": [
    {
     "data": {
      "text/plain": [
       "999"
      ]
     },
     "execution_count": 80,
     "metadata": {},
     "output_type": "execute_result"
    }
   ],
   "source": [
    "n_iters = cv_data[cv_data['test-F1-mean'] == cv_data['test-F1-mean'].max()]['iterations'].values[0]\n",
    "\n",
    "n_iters"
   ]
  },
  {
   "cell_type": "code",
   "execution_count": 81,
   "metadata": {},
   "outputs": [],
   "source": [
    "parameters = {\n",
    "             'iterations':n_iters,         \n",
    "             'cat_features': cat_features,\n",
    "             'eval_metric': 'F1',\n",
    "             'loss_function': 'Logloss',\n",
    "             'task_type': 'GPU',\n",
    "             'random_seed': 42,\n",
    "             'verbose': 100\n",
    "              }"
   ]
  },
  {
   "cell_type": "code",
   "execution_count": 82,
   "metadata": {},
   "outputs": [],
   "source": [
    "model_clf_cv = CatBoostClassifier(**parameters)"
   ]
  },
  {
   "cell_type": "code",
   "execution_count": 83,
   "metadata": {},
   "outputs": [
    {
     "name": "stdout",
     "output_type": "stream",
     "text": [
      "Learning rate set to 0.034106\n",
      "0:\tlearn: 0.7896103\ttest: 0.7897767\tbest: 0.7897767 (0)\ttotal: 913ms\tremaining: 15m 11s\n",
      "100:\tlearn: 0.8870477\ttest: 0.8868339\tbest: 0.8868339 (100)\ttotal: 1m 26s\tremaining: 12m 49s\n",
      "200:\tlearn: 0.8973518\ttest: 0.8972697\tbest: 0.8972697 (200)\ttotal: 2m 56s\tremaining: 11m 39s\n",
      "300:\tlearn: 0.9037620\ttest: 0.9038192\tbest: 0.9038247 (299)\ttotal: 4m 27s\tremaining: 10m 21s\n",
      "400:\tlearn: 0.9077045\ttest: 0.9078887\tbest: 0.9078887 (400)\ttotal: 5m 56s\tremaining: 8m 51s\n",
      "500:\tlearn: 0.9109211\ttest: 0.9111448\tbest: 0.9111448 (500)\ttotal: 7m 27s\tremaining: 7m 24s\n",
      "600:\tlearn: 0.9137589\ttest: 0.9142286\tbest: 0.9142286 (600)\ttotal: 8m 57s\tremaining: 5m 56s\n",
      "700:\tlearn: 0.9158270\ttest: 0.9164297\tbest: 0.9164297 (700)\ttotal: 10m 29s\tremaining: 4m 27s\n",
      "800:\tlearn: 0.9176225\ttest: 0.9182573\tbest: 0.9182573 (800)\ttotal: 11m 59s\tremaining: 2m 57s\n",
      "900:\tlearn: 0.9192480\ttest: 0.9199708\tbest: 0.9199708 (900)\ttotal: 13m 27s\tremaining: 1m 27s\n",
      "998:\tlearn: 0.9204677\ttest: 0.9212427\tbest: 0.9212427 (998)\ttotal: 14m 54s\tremaining: 0us\n",
      "bestTest = 0.9212426794\n",
      "bestIteration = 998\n"
     ]
    },
    {
     "data": {
      "text/plain": [
       "<catboost.core.CatBoostClassifier at 0x18b68fae860>"
      ]
     },
     "execution_count": 83,
     "metadata": {},
     "output_type": "execute_result"
    }
   ],
   "source": [
    "model_clf_cv.fit(train_data, eval_set=(val[X], val[y]))"
   ]
  },
  {
   "cell_type": "code",
   "execution_count": 84,
   "metadata": {},
   "outputs": [],
   "source": [
    "# прогноз количества дней для метрики\n",
    "\n",
    "test['pred_cv_buy_post'] = model_clf_cv.predict(test[X])"
   ]
  },
  {
   "cell_type": "code",
   "execution_count": 85,
   "metadata": {},
   "outputs": [
    {
     "data": {
      "text/plain": [
       "0.9215710488174239"
      ]
     },
     "execution_count": 85,
     "metadata": {},
     "output_type": "execute_result"
    }
   ],
   "source": [
    "# метрика F1 после кросс-валидации\n",
    "\n",
    "f1_score(test['buy_post'], test['pred_cv_buy_post'])"
   ]
  },
  {
   "cell_type": "markdown",
   "metadata": {},
   "source": [
    "Наблюдаю небольшой рост метрики после кросс-валидации"
   ]
  },
  {
   "cell_type": "markdown",
   "metadata": {
    "id": "-cT0c9x0WJhf"
   },
   "source": [
    "### Работа с тестовым датасетом"
   ]
  },
  {
   "cell_type": "markdown",
   "metadata": {
    "id": "VfnenIOZbHHw"
   },
   "source": [
    "Ссылка на test:\n",
    "\n",
    "https://drive.google.com/file/d/19ceSQZW0mrXGMF4Aer9DGVLK3wsU0sKY/view?usp=sharing\n"
   ]
  },
  {
   "cell_type": "code",
   "execution_count": 86,
   "metadata": {
    "id": "8Pcqy9PKbVUJ"
   },
   "outputs": [],
   "source": [
    "# # для запуска в colab\n",
    "\n",
    "# !gdown 19ceSQZW0mrXGMF4Aer9DGVLK3wsU0sKY"
   ]
  },
  {
   "cell_type": "code",
   "execution_count": 87,
   "metadata": {
    "id": "7ED1unLHbVUK"
   },
   "outputs": [],
   "source": [
    "# # для запуска в colab\n",
    "\n",
    "# !unzip -o '/content/hackaton2023_test.zip'"
   ]
  },
  {
   "cell_type": "code",
   "execution_count": 88,
   "metadata": {
    "id": "eFHcU3P0iHsY"
   },
   "outputs": [],
   "source": [
    "test_df = pd.read_parquet('hackaton2023_test.parquet')"
   ]
  },
  {
   "cell_type": "code",
   "execution_count": 89,
   "metadata": {
    "id": "GPzO29a-lFv9"
   },
   "outputs": [
    {
     "data": {
      "text/html": [
       "<div>\n",
       "<style scoped>\n",
       "    .dataframe tbody tr th:only-of-type {\n",
       "        vertical-align: middle;\n",
       "    }\n",
       "\n",
       "    .dataframe tbody tr th {\n",
       "        vertical-align: top;\n",
       "    }\n",
       "\n",
       "    .dataframe thead th {\n",
       "        text-align: right;\n",
       "    }\n",
       "</style>\n",
       "<table border=\"1\" class=\"dataframe\">\n",
       "  <thead>\n",
       "    <tr style=\"text-align: right;\">\n",
       "      <th></th>\n",
       "      <th>customer_id</th>\n",
       "      <th>group_name</th>\n",
       "      <th>revenue</th>\n",
       "      <th>startdatetime</th>\n",
       "      <th>dish_name</th>\n",
       "      <th>ownareaall_sqm</th>\n",
       "      <th>format_name</th>\n",
       "    </tr>\n",
       "  </thead>\n",
       "  <tbody>\n",
       "    <tr>\n",
       "      <th>1773606</th>\n",
       "      <td>13220760</td>\n",
       "      <td>test</td>\n",
       "      <td>0.28</td>\n",
       "      <td>2022-12-22 13:09:11</td>\n",
       "      <td>Липтон Лимон в бутылке 0,5л</td>\n",
       "      <td>174.4</td>\n",
       "      <td>Фудкорт с туалетом</td>\n",
       "    </tr>\n",
       "    <tr>\n",
       "      <th>4035564</th>\n",
       "      <td>30315975</td>\n",
       "      <td>test</td>\n",
       "      <td>139.99</td>\n",
       "      <td>2023-03-05 16:45:05</td>\n",
       "      <td>Пиво Балтика 7 0.5л розлив</td>\n",
       "      <td>235.0</td>\n",
       "      <td>Отдельно стоящий</td>\n",
       "    </tr>\n",
       "    <tr>\n",
       "      <th>2507770</th>\n",
       "      <td>21679985</td>\n",
       "      <td>test</td>\n",
       "      <td>36.00</td>\n",
       "      <td>2022-12-13 16:10:55</td>\n",
       "      <td>Кинг Фри мал</td>\n",
       "      <td>165.0</td>\n",
       "      <td>Фудкорт без туалета</td>\n",
       "    </tr>\n",
       "    <tr>\n",
       "      <th>3963775</th>\n",
       "      <td>29754274</td>\n",
       "      <td>test</td>\n",
       "      <td>230.00</td>\n",
       "      <td>2023-03-14 14:10:43</td>\n",
       "      <td>Цезарь ролл со стрипсами</td>\n",
       "      <td>150.0</td>\n",
       "      <td>Фудкорт без туалета</td>\n",
       "    </tr>\n",
       "    <tr>\n",
       "      <th>859943</th>\n",
       "      <td>7797823</td>\n",
       "      <td>test</td>\n",
       "      <td>204.96</td>\n",
       "      <td>2022-10-22 14:09:28</td>\n",
       "      <td>Up Гранд Чиз Фреш</td>\n",
       "      <td>114.5</td>\n",
       "      <td>Фудкорт без туалета</td>\n",
       "    </tr>\n",
       "  </tbody>\n",
       "</table>\n",
       "</div>"
      ],
      "text/plain": [
       "         customer_id group_name  revenue       startdatetime  \\\n",
       "1773606     13220760       test     0.28 2022-12-22 13:09:11   \n",
       "4035564     30315975       test   139.99 2023-03-05 16:45:05   \n",
       "2507770     21679985       test    36.00 2022-12-13 16:10:55   \n",
       "3963775     29754274       test   230.00 2023-03-14 14:10:43   \n",
       "859943       7797823       test   204.96 2022-10-22 14:09:28   \n",
       "\n",
       "                           dish_name  ownareaall_sqm          format_name  \n",
       "1773606  Липтон Лимон в бутылке 0,5л           174.4   Фудкорт с туалетом  \n",
       "4035564   Пиво Балтика 7 0.5л розлив           235.0     Отдельно стоящий  \n",
       "2507770                 Кинг Фри мал           165.0  Фудкорт без туалета  \n",
       "3963775     Цезарь ролл со стрипсами           150.0  Фудкорт без туалета  \n",
       "859943             Up Гранд Чиз Фреш           114.5  Фудкорт без туалета  "
      ]
     },
     "execution_count": 89,
     "metadata": {},
     "output_type": "execute_result"
    }
   ],
   "source": [
    "test_df.head()"
   ]
  },
  {
   "cell_type": "code",
   "execution_count": 90,
   "metadata": {
    "id": "TnxqqBqUlPm-"
   },
   "outputs": [
    {
     "data": {
      "text/plain": [
       "2498034"
      ]
     },
     "execution_count": 90,
     "metadata": {},
     "output_type": "execute_result"
    }
   ],
   "source": [
    "len(test_df)"
   ]
  },
  {
   "cell_type": "code",
   "execution_count": 91,
   "metadata": {
    "id": "D2QoRSmylUUG"
   },
   "outputs": [],
   "source": [
    "test_df.drop('group_name', axis=1, inplace=True)"
   ]
  },
  {
   "cell_type": "code",
   "execution_count": 92,
   "metadata": {
    "id": "kaZ2SUafmeNr"
   },
   "outputs": [],
   "source": [
    "# feature generation\n",
    "\n",
    "counts = test_df['customer_id'].value_counts()\n",
    "test_df['loyality'] = test_df['customer_id'].apply(lambda x: counts.loc[x])\n",
    "\n",
    "test_df['datetime'] = pd.to_datetime(test_df['startdatetime'], format='mixed')\n",
    "test_df['day_of_week'] = test_df['datetime'].dt.dayofweek\n",
    "test_df['hour_of_day'] = test_df['datetime'].dt.hour\n",
    "test_df['month'] = test_df['datetime'].dt.month\n",
    "test_df['quarter'] = test_df['datetime'].dt.quarter\n",
    "\n",
    "category_counts = test_df['dish_name'].value_counts()\n",
    "threshold = category_counts.median()\n",
    "for i in range(len(category_counts)):\n",
    "    if category_counts[i] < threshold:\n",
    "        test_df['dish_name'].replace(category_counts.index[i], 'Другое', inplace=True)\n",
    "len(test_df['dish_name'].value_counts())\n",
    "\n",
    "test_df['ownareaall_sqm'] = test_df['ownareaall_sqm'].apply(fit_area)"
   ]
  },
  {
   "cell_type": "code",
   "execution_count": 93,
   "metadata": {
    "id": "YjOX909jW0bb"
   },
   "outputs": [],
   "source": [
    "X = ['revenue', 'dish_name', 'ownareaall_sqm', 'format_name', 'loyality', 'day_of_week', 'hour_of_day', 'month', 'quarter']"
   ]
  },
  {
   "cell_type": "code",
   "execution_count": 94,
   "metadata": {
    "id": "FtXH8TVxXVLI"
   },
   "outputs": [],
   "source": [
    "# предсказание количества дней до следующей покупки\n",
    "\n",
    "test_df['date_diff_post'] = model_rgr.predict(test_df[X])"
   ]
  },
  {
   "cell_type": "code",
   "execution_count": 95,
   "metadata": {
    "id": "nsBTpQWuXrbj"
   },
   "outputs": [],
   "source": [
    "test_df['date_diff_post'] = test_df['date_diff_post'].round().astype(int)"
   ]
  },
  {
   "cell_type": "code",
   "execution_count": 96,
   "metadata": {
    "id": "SxPpg3cUXVNy"
   },
   "outputs": [],
   "source": [
    "X = ['date_diff_post', 'revenue', 'dish_name', 'ownareaall_sqm', 'format_name', \n",
    "     'loyality', 'day_of_week', 'hour_of_day', 'month', 'quarter']"
   ]
  },
  {
   "cell_type": "code",
   "execution_count": 97,
   "metadata": {
    "id": "mmtxc2tKXVQU"
   },
   "outputs": [],
   "source": [
    "# предсказание оттока посетителей\n",
    "\n",
    "test_df['buy_post'] = model_clf_cv.predict(test_df[X])"
   ]
  },
  {
   "cell_type": "code",
   "execution_count": 98,
   "metadata": {
    "id": "UoMQykrwzKwv"
   },
   "outputs": [
    {
     "data": {
      "text/html": [
       "<div>\n",
       "<style scoped>\n",
       "    .dataframe tbody tr th:only-of-type {\n",
       "        vertical-align: middle;\n",
       "    }\n",
       "\n",
       "    .dataframe tbody tr th {\n",
       "        vertical-align: top;\n",
       "    }\n",
       "\n",
       "    .dataframe thead th {\n",
       "        text-align: right;\n",
       "    }\n",
       "</style>\n",
       "<table border=\"1\" class=\"dataframe\">\n",
       "  <thead>\n",
       "    <tr style=\"text-align: right;\">\n",
       "      <th></th>\n",
       "      <th>customer_id</th>\n",
       "      <th>revenue</th>\n",
       "      <th>startdatetime</th>\n",
       "      <th>dish_name</th>\n",
       "      <th>ownareaall_sqm</th>\n",
       "      <th>format_name</th>\n",
       "      <th>loyality</th>\n",
       "      <th>datetime</th>\n",
       "      <th>day_of_week</th>\n",
       "      <th>hour_of_day</th>\n",
       "      <th>month</th>\n",
       "      <th>quarter</th>\n",
       "      <th>date_diff_post</th>\n",
       "      <th>buy_post</th>\n",
       "    </tr>\n",
       "  </thead>\n",
       "  <tbody>\n",
       "    <tr>\n",
       "      <th>1773606</th>\n",
       "      <td>13220760</td>\n",
       "      <td>0.28</td>\n",
       "      <td>2022-12-22 13:09:11</td>\n",
       "      <td>Липтон Лимон в бутылке 0,5л</td>\n",
       "      <td>1</td>\n",
       "      <td>Фудкорт с туалетом</td>\n",
       "      <td>63</td>\n",
       "      <td>2022-12-22 13:09:11</td>\n",
       "      <td>3</td>\n",
       "      <td>13</td>\n",
       "      <td>12</td>\n",
       "      <td>4</td>\n",
       "      <td>12</td>\n",
       "      <td>0</td>\n",
       "    </tr>\n",
       "    <tr>\n",
       "      <th>4035564</th>\n",
       "      <td>30315975</td>\n",
       "      <td>139.99</td>\n",
       "      <td>2023-03-05 16:45:05</td>\n",
       "      <td>Пиво Балтика 7 0.5л розлив</td>\n",
       "      <td>2</td>\n",
       "      <td>Отдельно стоящий</td>\n",
       "      <td>8</td>\n",
       "      <td>2023-03-05 16:45:05</td>\n",
       "      <td>6</td>\n",
       "      <td>16</td>\n",
       "      <td>3</td>\n",
       "      <td>1</td>\n",
       "      <td>27</td>\n",
       "      <td>0</td>\n",
       "    </tr>\n",
       "    <tr>\n",
       "      <th>2507770</th>\n",
       "      <td>21679985</td>\n",
       "      <td>36.00</td>\n",
       "      <td>2022-12-13 16:10:55</td>\n",
       "      <td>Кинг Фри мал</td>\n",
       "      <td>1</td>\n",
       "      <td>Фудкорт без туалета</td>\n",
       "      <td>38</td>\n",
       "      <td>2022-12-13 16:10:55</td>\n",
       "      <td>1</td>\n",
       "      <td>16</td>\n",
       "      <td>12</td>\n",
       "      <td>4</td>\n",
       "      <td>17</td>\n",
       "      <td>0</td>\n",
       "    </tr>\n",
       "    <tr>\n",
       "      <th>3963775</th>\n",
       "      <td>29754274</td>\n",
       "      <td>230.00</td>\n",
       "      <td>2023-03-14 14:10:43</td>\n",
       "      <td>Цезарь ролл со стрипсами</td>\n",
       "      <td>1</td>\n",
       "      <td>Фудкорт без туалета</td>\n",
       "      <td>19</td>\n",
       "      <td>2023-03-14 14:10:43</td>\n",
       "      <td>1</td>\n",
       "      <td>14</td>\n",
       "      <td>3</td>\n",
       "      <td>1</td>\n",
       "      <td>20</td>\n",
       "      <td>0</td>\n",
       "    </tr>\n",
       "    <tr>\n",
       "      <th>859943</th>\n",
       "      <td>7797823</td>\n",
       "      <td>204.96</td>\n",
       "      <td>2022-10-22 14:09:28</td>\n",
       "      <td>Up Гранд Чиз Фреш</td>\n",
       "      <td>1</td>\n",
       "      <td>Фудкорт без туалета</td>\n",
       "      <td>85</td>\n",
       "      <td>2022-10-22 14:09:28</td>\n",
       "      <td>5</td>\n",
       "      <td>14</td>\n",
       "      <td>10</td>\n",
       "      <td>4</td>\n",
       "      <td>10</td>\n",
       "      <td>0</td>\n",
       "    </tr>\n",
       "    <tr>\n",
       "      <th>...</th>\n",
       "      <td>...</td>\n",
       "      <td>...</td>\n",
       "      <td>...</td>\n",
       "      <td>...</td>\n",
       "      <td>...</td>\n",
       "      <td>...</td>\n",
       "      <td>...</td>\n",
       "      <td>...</td>\n",
       "      <td>...</td>\n",
       "      <td>...</td>\n",
       "      <td>...</td>\n",
       "      <td>...</td>\n",
       "      <td>...</td>\n",
       "      <td>...</td>\n",
       "    </tr>\n",
       "    <tr>\n",
       "      <th>1677742</th>\n",
       "      <td>12727388</td>\n",
       "      <td>99.99</td>\n",
       "      <td>2023-04-29 10:12:21</td>\n",
       "      <td>Сырные Медальоны (6 шт.)</td>\n",
       "      <td>0</td>\n",
       "      <td>Фудкорт без туалета</td>\n",
       "      <td>53</td>\n",
       "      <td>2023-04-29 10:12:21</td>\n",
       "      <td>5</td>\n",
       "      <td>10</td>\n",
       "      <td>4</td>\n",
       "      <td>2</td>\n",
       "      <td>8</td>\n",
       "      <td>0</td>\n",
       "    </tr>\n",
       "    <tr>\n",
       "      <th>4450230</th>\n",
       "      <td>36332632</td>\n",
       "      <td>79.98</td>\n",
       "      <td>2023-02-12 19:57:23</td>\n",
       "      <td>Липтон Грин Дж 0,3</td>\n",
       "      <td>2</td>\n",
       "      <td>Отдельно стоящий без внешней зоны</td>\n",
       "      <td>78</td>\n",
       "      <td>2023-02-12 19:57:23</td>\n",
       "      <td>6</td>\n",
       "      <td>19</td>\n",
       "      <td>2</td>\n",
       "      <td>1</td>\n",
       "      <td>7</td>\n",
       "      <td>0</td>\n",
       "    </tr>\n",
       "    <tr>\n",
       "      <th>3882998</th>\n",
       "      <td>29278039</td>\n",
       "      <td>209.99</td>\n",
       "      <td>2022-11-08 15:39:53</td>\n",
       "      <td>Воппер Ролл</td>\n",
       "      <td>2</td>\n",
       "      <td>Отдельно стоящий с внешней зоной</td>\n",
       "      <td>204</td>\n",
       "      <td>2022-11-08 15:39:53</td>\n",
       "      <td>1</td>\n",
       "      <td>15</td>\n",
       "      <td>11</td>\n",
       "      <td>4</td>\n",
       "      <td>2</td>\n",
       "      <td>0</td>\n",
       "    </tr>\n",
       "    <tr>\n",
       "      <th>1356999</th>\n",
       "      <td>11223378</td>\n",
       "      <td>679.98</td>\n",
       "      <td>2023-01-31 19:15:39</td>\n",
       "      <td>Двойной Воппер с сыром</td>\n",
       "      <td>1</td>\n",
       "      <td>Фудкорт без туалета</td>\n",
       "      <td>24</td>\n",
       "      <td>2023-01-31 19:15:39</td>\n",
       "      <td>1</td>\n",
       "      <td>19</td>\n",
       "      <td>1</td>\n",
       "      <td>1</td>\n",
       "      <td>19</td>\n",
       "      <td>0</td>\n",
       "    </tr>\n",
       "    <tr>\n",
       "      <th>3964741</th>\n",
       "      <td>29757889</td>\n",
       "      <td>192.99</td>\n",
       "      <td>2023-02-05 17:31:26</td>\n",
       "      <td>Гранд Чиз</td>\n",
       "      <td>3</td>\n",
       "      <td>Отдельно стоящий</td>\n",
       "      <td>62</td>\n",
       "      <td>2023-02-05 17:31:26</td>\n",
       "      <td>6</td>\n",
       "      <td>17</td>\n",
       "      <td>2</td>\n",
       "      <td>1</td>\n",
       "      <td>11</td>\n",
       "      <td>0</td>\n",
       "    </tr>\n",
       "  </tbody>\n",
       "</table>\n",
       "<p>2498034 rows × 14 columns</p>\n",
       "</div>"
      ],
      "text/plain": [
       "         customer_id  revenue       startdatetime  \\\n",
       "1773606     13220760     0.28 2022-12-22 13:09:11   \n",
       "4035564     30315975   139.99 2023-03-05 16:45:05   \n",
       "2507770     21679985    36.00 2022-12-13 16:10:55   \n",
       "3963775     29754274   230.00 2023-03-14 14:10:43   \n",
       "859943       7797823   204.96 2022-10-22 14:09:28   \n",
       "...              ...      ...                 ...   \n",
       "1677742     12727388    99.99 2023-04-29 10:12:21   \n",
       "4450230     36332632    79.98 2023-02-12 19:57:23   \n",
       "3882998     29278039   209.99 2022-11-08 15:39:53   \n",
       "1356999     11223378   679.98 2023-01-31 19:15:39   \n",
       "3964741     29757889   192.99 2023-02-05 17:31:26   \n",
       "\n",
       "                           dish_name  ownareaall_sqm  \\\n",
       "1773606  Липтон Лимон в бутылке 0,5л               1   \n",
       "4035564   Пиво Балтика 7 0.5л розлив               2   \n",
       "2507770                 Кинг Фри мал               1   \n",
       "3963775     Цезарь ролл со стрипсами               1   \n",
       "859943             Up Гранд Чиз Фреш               1   \n",
       "...                              ...             ...   \n",
       "1677742     Сырные Медальоны (6 шт.)               0   \n",
       "4450230           Липтон Грин Дж 0,3               2   \n",
       "3882998                  Воппер Ролл               2   \n",
       "1356999       Двойной Воппер с сыром               1   \n",
       "3964741                    Гранд Чиз               3   \n",
       "\n",
       "                               format_name  loyality            datetime  \\\n",
       "1773606                 Фудкорт с туалетом        63 2022-12-22 13:09:11   \n",
       "4035564                   Отдельно стоящий         8 2023-03-05 16:45:05   \n",
       "2507770                Фудкорт без туалета        38 2022-12-13 16:10:55   \n",
       "3963775                Фудкорт без туалета        19 2023-03-14 14:10:43   \n",
       "859943                 Фудкорт без туалета        85 2022-10-22 14:09:28   \n",
       "...                                    ...       ...                 ...   \n",
       "1677742                Фудкорт без туалета        53 2023-04-29 10:12:21   \n",
       "4450230  Отдельно стоящий без внешней зоны        78 2023-02-12 19:57:23   \n",
       "3882998   Отдельно стоящий с внешней зоной       204 2022-11-08 15:39:53   \n",
       "1356999                Фудкорт без туалета        24 2023-01-31 19:15:39   \n",
       "3964741                   Отдельно стоящий        62 2023-02-05 17:31:26   \n",
       "\n",
       "         day_of_week  hour_of_day  month  quarter  date_diff_post  buy_post  \n",
       "1773606            3           13     12        4              12         0  \n",
       "4035564            6           16      3        1              27         0  \n",
       "2507770            1           16     12        4              17         0  \n",
       "3963775            1           14      3        1              20         0  \n",
       "859943             5           14     10        4              10         0  \n",
       "...              ...          ...    ...      ...             ...       ...  \n",
       "1677742            5           10      4        2               8         0  \n",
       "4450230            6           19      2        1               7         0  \n",
       "3882998            1           15     11        4               2         0  \n",
       "1356999            1           19      1        1              19         0  \n",
       "3964741            6           17      2        1              11         0  \n",
       "\n",
       "[2498034 rows x 14 columns]"
      ]
     },
     "execution_count": 98,
     "metadata": {},
     "output_type": "execute_result"
    }
   ],
   "source": [
    "test_df"
   ]
  },
  {
   "cell_type": "markdown",
   "metadata": {
    "id": "wShAQlpvYdhZ"
   },
   "source": [
    "Эти данные можно будет использовать для формирования сабмишенов."
   ]
  },
  {
   "cell_type": "code",
   "execution_count": null,
   "metadata": {
    "id": "_ub64rkLZcuF"
   },
   "outputs": [],
   "source": []
  }
 ],
 "metadata": {
  "accelerator": "TPU",
  "colab": {
   "provenance": []
  },
  "kernelspec": {
   "display_name": "Python 3 (ipykernel)",
   "language": "python",
   "name": "python3"
  },
  "language_info": {
   "codemirror_mode": {
    "name": "ipython",
    "version": 3
   },
   "file_extension": ".py",
   "mimetype": "text/x-python",
   "name": "python",
   "nbconvert_exporter": "python",
   "pygments_lexer": "ipython3",
   "version": "3.10.9"
  }
 },
 "nbformat": 4,
 "nbformat_minor": 1
}
